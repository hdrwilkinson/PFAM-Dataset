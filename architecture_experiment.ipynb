{
 "cells": [
  {
   "cell_type": "markdown",
   "id": "5fc76e73",
   "metadata": {},
   "source": [
    "# Experiment Overview\n",
    "\n",
    "In this experiment, I investigated the effectiveness of various neural network architectures for protein family classification, a problem with significant practical applications in the fields of bioinformatics and drug discovery. The ability to accurately classify protein sequences into different families is critical for understanding their structure, function, and evolution. It is also essential for identifying potential drug targets and developing new treatments for diseases.\n",
    "\n",
    "The problem of protein family classification is closely related to natural language processing (NLP) tasks, such as text classification and sentiment analysis. This is because protein sequences, like natural language, are essentially a sequence of symbols that can be represented as a sequence of tokens. Moreover, the ability to capture the context and meaning of these tokens is critical for accurate classification in both cases.\n",
    "\n",
    "To achieve my objective, I conducted a series of experiments using a subset of the PFAM dataset, focusing on the 100 most popular protein families to make the analysis manageable. My aim was to compare different models and determine the most effective deep learning method for this challenging problem. Specifically, I focused on maximizing the F1 score, a critical performance metric in protein sequence classification.\n",
    "\n",
    "To this end, I tested six different model architectures: Fully-Connected Feed-Forward Network, Recurrent Neural Network (RNN), RNN with embedding, Long Short-Term Memory (LSTM), Bi-Directional LSTM, and Transformer (encoder only). I used hyperparameter optimization to fine-tune the model parameters and extract the best possible performance.\n",
    "\n",
    "Through these experiments, I aimed to demonstrate the advantages and disadvantages of each architecture and provide insights into the most effective deep learning methods for protein family classification. The results of my study may have practical implications for researchers and practitioners in the field of protein sequence analysis. By accurately classifying protein sequences, we can better understand their structure and function, and potentially identify new drug targets for developing new treatments."
   ]
  },
  {
   "cell_type": "code",
   "execution_count": 5,
   "id": "57693974",
   "metadata": {},
   "outputs": [],
   "source": [
    "from operations import tuning_and_training, test, training_with_parameters"
   ]
  },
  {
   "cell_type": "code",
   "execution_count": 2,
   "id": "6ecbf013",
   "metadata": {},
   "outputs": [],
   "source": [
    "class_gap = 1\n",
    "num_classes = 100\n",
    "max_seq_len = 128\n",
    "vocab_len = 24\n",
    "batch_size = 64"
   ]
  },
  {
   "cell_type": "markdown",
   "id": "bdeacbdd",
   "metadata": {},
   "source": [
    "## Fully Connected Model\n",
    "\n",
    "Employing a Fully-Connected Feed-Forward Network, we exploit its simplicity and efficiency, focusing on tuning the hidden dimension and number of layers to maximize the F1 score in protein family classification."
   ]
  },
  {
   "cell_type": "code",
   "execution_count": 3,
   "id": "a951c92b",
   "metadata": {},
   "outputs": [],
   "source": [
    "model_name = \"fc\"\n",
    "label = model_name + \"_iter1\"\n",
    "no_trials = 20"
   ]
  },
  {
   "cell_type": "code",
   "execution_count": 3,
   "id": "e358af26",
   "metadata": {},
   "outputs": [
    {
     "name": "stderr",
     "output_type": "stream",
     "text": [
      "\u001b[32m[I 2023-04-10 19:57:07,190]\u001b[0m A new study created in memory with name: no-name-c18a80a1-aea9-4e1d-929e-d9c04400c3f6\u001b[0m\n"
     ]
    },
    {
     "name": "stdout",
     "output_type": "stream",
     "text": [
      "FC Trial 1 | hd 379, nl 1\n",
      "Epoch   1/  5, train loss: 0.06, train f1: 0.08, val loss: 0.06, val f1: 0.11, duration: 6.2s\n"
     ]
    },
    {
     "name": "stderr",
     "output_type": "stream",
     "text": [
      "\u001b[32m[I 2023-04-10 19:57:32,601]\u001b[0m Trial 0 finished with value: 0.17193517807328434 and parameters: {'hidden_dim': 379, 'num_layers': 1}. Best is trial 0 with value: 0.17193517807328434.\u001b[0m\n"
     ]
    },
    {
     "name": "stdout",
     "output_type": "stream",
     "text": [
      "Epoch   5/  5, train loss: 0.06, train f1: 0.15, val loss: 0.06, val f1: 0.17, duration: 4.5s\n",
      "FC Trial 2 | hd 173, nl 2\n",
      "Epoch   1/  5, train loss: 0.06, train f1: 0.12, val loss: 0.05, val f1: 0.20, duration: 4.6s\n"
     ]
    },
    {
     "name": "stderr",
     "output_type": "stream",
     "text": [
      "\u001b[32m[I 2023-04-10 19:57:58,192]\u001b[0m Trial 1 finished with value: 0.266648465701802 and parameters: {'hidden_dim': 173, 'num_layers': 2}. Best is trial 1 with value: 0.266648465701802.\u001b[0m\n"
     ]
    },
    {
     "name": "stdout",
     "output_type": "stream",
     "text": [
      "Epoch   5/  5, train loss: 0.05, train f1: 0.21, val loss: 0.05, val f1: 0.27, duration: 4.6s\n",
      "FC Trial 3 | hd 345, nl 0\n",
      "Epoch   1/  5, train loss: 0.06, train f1: 0.07, val loss: 0.06, val f1: 0.12, duration: 3.9s\n"
     ]
    },
    {
     "name": "stderr",
     "output_type": "stream",
     "text": [
      "\u001b[32m[I 2023-04-10 19:58:19,592]\u001b[0m Trial 2 finished with value: 0.21747621017293706 and parameters: {'hidden_dim': 345, 'num_layers': 0}. Best is trial 1 with value: 0.266648465701802.\u001b[0m\n"
     ]
    },
    {
     "name": "stdout",
     "output_type": "stream",
     "text": [
      "Epoch   5/  5, train loss: 0.06, train f1: 0.18, val loss: 0.05, val f1: 0.22, duration: 4.4s\n",
      "FC Trial 4 | hd 469, nl 0\n",
      "Epoch   1/  5, train loss: 0.07, train f1: 0.04, val loss: 0.07, val f1: 0.05, duration: 3.6s\n"
     ]
    },
    {
     "name": "stderr",
     "output_type": "stream",
     "text": [
      "\u001b[32m[I 2023-04-10 19:58:40,061]\u001b[0m Trial 3 finished with value: 0.080621592900695 and parameters: {'hidden_dim': 469, 'num_layers': 0}. Best is trial 1 with value: 0.266648465701802.\u001b[0m\n"
     ]
    },
    {
     "name": "stdout",
     "output_type": "stream",
     "text": [
      "Epoch   5/  5, train loss: 0.06, train f1: 0.07, val loss: 0.07, val f1: 0.08, duration: 3.5s\n",
      "FC Trial 5 | hd 93, nl 0\n",
      "Epoch   1/  5, train loss: 0.05, train f1: 0.27, val loss: 0.04, val f1: 0.50, duration: 3.5s\n"
     ]
    },
    {
     "name": "stderr",
     "output_type": "stream",
     "text": [
      "\u001b[32m[I 2023-04-10 19:59:00,514]\u001b[0m Trial 4 finished with value: 0.5736501056764914 and parameters: {'hidden_dim': 93, 'num_layers': 0}. Best is trial 4 with value: 0.5736501056764914.\u001b[0m\n"
     ]
    },
    {
     "name": "stdout",
     "output_type": "stream",
     "text": [
      "Epoch   5/  5, train loss: 0.04, train f1: 0.44, val loss: 0.03, val f1: 0.57, duration: 3.5s\n",
      "FC Trial 6 | hd 220, nl 2\n",
      "Epoch   1/  5, train loss: 0.06, train f1: 0.15, val loss: 0.05, val f1: 0.25, duration: 5.2s\n"
     ]
    },
    {
     "name": "stderr",
     "output_type": "stream",
     "text": [
      "\u001b[32m[I 2023-04-10 19:59:29,267]\u001b[0m Trial 5 finished with value: 0.28115887052554883 and parameters: {'hidden_dim': 220, 'num_layers': 2}. Best is trial 4 with value: 0.5736501056764914.\u001b[0m\n"
     ]
    },
    {
     "name": "stdout",
     "output_type": "stream",
     "text": [
      "Epoch   5/  5, train loss: 0.05, train f1: 0.23, val loss: 0.05, val f1: 0.28, duration: 4.7s\n",
      "FC Trial 7 | hd 350, nl 1\n",
      "Epoch   1/  5, train loss: 0.06, train f1: 0.08, val loss: 0.06, val f1: 0.11, duration: 4.5s\n"
     ]
    },
    {
     "name": "stderr",
     "output_type": "stream",
     "text": [
      "\u001b[32m[I 2023-04-10 19:59:53,351]\u001b[0m Trial 6 finished with value: 0.1545625286783351 and parameters: {'hidden_dim': 350, 'num_layers': 1}. Best is trial 4 with value: 0.5736501056764914.\u001b[0m\n"
     ]
    },
    {
     "name": "stdout",
     "output_type": "stream",
     "text": [
      "Epoch   5/  5, train loss: 0.06, train f1: 0.13, val loss: 0.06, val f1: 0.15, duration: 4.3s\n",
      "FC Trial 8 | hd 306, nl 1\n",
      "Epoch   1/  5, train loss: 0.06, train f1: 0.06, val loss: 0.06, val f1: 0.10, duration: 4.5s\n"
     ]
    },
    {
     "name": "stderr",
     "output_type": "stream",
     "text": [
      "\u001b[32m[I 2023-04-10 20:00:17,659]\u001b[0m Trial 7 finished with value: 0.12524805161554953 and parameters: {'hidden_dim': 306, 'num_layers': 1}. Best is trial 4 with value: 0.5736501056764914.\u001b[0m\n"
     ]
    },
    {
     "name": "stdout",
     "output_type": "stream",
     "text": [
      "Epoch   5/  5, train loss: 0.06, train f1: 0.11, val loss: 0.06, val f1: 0.13, duration: 4.2s\n",
      "FC Trial 9 | hd 492, nl 1\n",
      "Epoch   1/  5, train loss: 0.06, train f1: 0.06, val loss: 0.06, val f1: 0.08, duration: 4.2s\n"
     ]
    },
    {
     "name": "stderr",
     "output_type": "stream",
     "text": [
      "\u001b[32m[I 2023-04-10 20:00:42,075]\u001b[0m Trial 8 finished with value: 0.1366059448201182 and parameters: {'hidden_dim': 492, 'num_layers': 1}. Best is trial 4 with value: 0.5736501056764914.\u001b[0m\n"
     ]
    },
    {
     "name": "stdout",
     "output_type": "stream",
     "text": [
      "Epoch   5/  5, train loss: 0.06, train f1: 0.11, val loss: 0.06, val f1: 0.14, duration: 4.9s\n",
      "FC Trial 10 | hd 284, nl 1\n",
      "Epoch   1/  5, train loss: 0.06, train f1: 0.11, val loss: 0.06, val f1: 0.18, duration: 4.8s\n"
     ]
    },
    {
     "name": "stderr",
     "output_type": "stream",
     "text": [
      "\u001b[32m[I 2023-04-10 20:01:07,372]\u001b[0m Trial 9 finished with value: 0.22621305301297784 and parameters: {'hidden_dim': 284, 'num_layers': 1}. Best is trial 4 with value: 0.5736501056764914.\u001b[0m\n"
     ]
    },
    {
     "name": "stdout",
     "output_type": "stream",
     "text": [
      "Epoch   5/  5, train loss: 0.05, train f1: 0.19, val loss: 0.05, val f1: 0.23, duration: 4.2s\n",
      "FC Trial 11 | hd 65, nl 0\n",
      "Epoch   1/  5, train loss: 0.05, train f1: 0.26, val loss: 0.04, val f1: 0.54, duration: 3.5s\n"
     ]
    },
    {
     "name": "stderr",
     "output_type": "stream",
     "text": [
      "\u001b[32m[I 2023-04-10 20:01:28,364]\u001b[0m Trial 10 finished with value: 0.6306640491658346 and parameters: {'hidden_dim': 65, 'num_layers': 0}. Best is trial 10 with value: 0.6306640491658346.\u001b[0m\n"
     ]
    },
    {
     "name": "stdout",
     "output_type": "stream",
     "text": [
      "Epoch   5/  5, train loss: 0.04, train f1: 0.47, val loss: 0.03, val f1: 0.63, duration: 4.0s\n",
      "FC Trial 12 | hd 67, nl 0\n",
      "Epoch   1/  5, train loss: 0.05, train f1: 0.25, val loss: 0.04, val f1: 0.49, duration: 4.0s\n"
     ]
    },
    {
     "name": "stderr",
     "output_type": "stream",
     "text": [
      "\u001b[32m[I 2023-04-10 20:01:51,296]\u001b[0m Trial 11 finished with value: 0.5961351939691282 and parameters: {'hidden_dim': 67, 'num_layers': 0}. Best is trial 10 with value: 0.6306640491658346.\u001b[0m\n"
     ]
    },
    {
     "name": "stdout",
     "output_type": "stream",
     "text": [
      "Epoch   5/  5, train loss: 0.04, train f1: 0.44, val loss: 0.03, val f1: 0.60, duration: 3.9s\n",
      "FC Trial 13 | hd 73, nl 0\n",
      "Epoch   1/  5, train loss: 0.05, train f1: 0.24, val loss: 0.04, val f1: 0.47, duration: 3.8s\n"
     ]
    },
    {
     "name": "stderr",
     "output_type": "stream",
     "text": [
      "\u001b[32m[I 2023-04-10 20:02:13,372]\u001b[0m Trial 12 finished with value: 0.5665516037727157 and parameters: {'hidden_dim': 73, 'num_layers': 0}. Best is trial 10 with value: 0.6306640491658346.\u001b[0m\n"
     ]
    },
    {
     "name": "stdout",
     "output_type": "stream",
     "text": [
      "Epoch   5/  5, train loss: 0.04, train f1: 0.43, val loss: 0.03, val f1: 0.57, duration: 3.8s\n",
      "FC Trial 14 | hd 139, nl 0\n",
      "Epoch   1/  5, train loss: 0.05, train f1: 0.31, val loss: 0.03, val f1: 0.51, duration: 4.3s\n"
     ]
    },
    {
     "name": "stderr",
     "output_type": "stream",
     "text": [
      "\u001b[32m[I 2023-04-10 20:02:36,905]\u001b[0m Trial 13 finished with value: 0.5700343208839727 and parameters: {'hidden_dim': 139, 'num_layers': 0}. Best is trial 10 with value: 0.6306640491658346.\u001b[0m\n"
     ]
    },
    {
     "name": "stdout",
     "output_type": "stream",
     "text": [
      "Epoch   5/  5, train loss: 0.04, train f1: 0.46, val loss: 0.03, val f1: 0.57, duration: 5.2s\n",
      "FC Trial 15 | hd 64, nl 0\n",
      "Epoch   1/  5, train loss: 0.05, train f1: 0.25, val loss: 0.04, val f1: 0.49, duration: 4.6s\n"
     ]
    },
    {
     "name": "stderr",
     "output_type": "stream",
     "text": [
      "\u001b[32m[I 2023-04-10 20:02:59,199]\u001b[0m Trial 14 finished with value: 0.5816243011647051 and parameters: {'hidden_dim': 64, 'num_layers': 0}. Best is trial 10 with value: 0.6306640491658346.\u001b[0m\n"
     ]
    },
    {
     "name": "stdout",
     "output_type": "stream",
     "text": [
      "Epoch   5/  5, train loss: 0.04, train f1: 0.44, val loss: 0.03, val f1: 0.58, duration: 3.6s\n",
      "FC Trial 16 | hd 197, nl 0\n",
      "Epoch   1/  5, train loss: 0.06, train f1: 0.17, val loss: 0.05, val f1: 0.31, duration: 3.6s\n"
     ]
    },
    {
     "name": "stderr",
     "output_type": "stream",
     "text": [
      "\u001b[32m[I 2023-04-10 20:03:19,815]\u001b[0m Trial 15 finished with value: 0.40996327304128827 and parameters: {'hidden_dim': 197, 'num_layers': 0}. Best is trial 10 with value: 0.6306640491658346.\u001b[0m\n"
     ]
    },
    {
     "name": "stdout",
     "output_type": "stream",
     "text": [
      "Epoch   5/  5, train loss: 0.05, train f1: 0.32, val loss: 0.04, val f1: 0.41, duration: 3.6s\n",
      "FC Trial 17 | hd 131, nl 0\n",
      "Epoch   1/  5, train loss: 0.05, train f1: 0.25, val loss: 0.04, val f1: 0.41, duration: 3.8s\n"
     ]
    },
    {
     "name": "stderr",
     "output_type": "stream",
     "text": [
      "\u001b[32m[I 2023-04-10 20:03:40,661]\u001b[0m Trial 16 finished with value: 0.475578751306846 and parameters: {'hidden_dim': 131, 'num_layers': 0}. Best is trial 10 with value: 0.6306640491658346.\u001b[0m\n"
     ]
    },
    {
     "name": "stdout",
     "output_type": "stream",
     "text": [
      "Epoch   5/  5, train loss: 0.04, train f1: 0.38, val loss: 0.04, val f1: 0.48, duration: 3.9s\n",
      "FC Trial 18 | hd 233, nl 2\n",
      "Epoch   1/  5, train loss: 0.06, train f1: 0.18, val loss: 0.05, val f1: 0.29, duration: 4.8s\n"
     ]
    },
    {
     "name": "stderr",
     "output_type": "stream",
     "text": [
      "\u001b[32m[I 2023-04-10 20:04:07,156]\u001b[0m Trial 17 finished with value: 0.3596663182480019 and parameters: {'hidden_dim': 233, 'num_layers': 2}. Best is trial 10 with value: 0.6306640491658346.\u001b[0m\n"
     ]
    },
    {
     "name": "stdout",
     "output_type": "stream",
     "text": [
      "Epoch   5/  5, train loss: 0.05, train f1: 0.28, val loss: 0.04, val f1: 0.36, duration: 4.7s\n",
      "FC Trial 19 | hd 130, nl 0\n",
      "Epoch   1/  5, train loss: 0.05, train f1: 0.22, val loss: 0.04, val f1: 0.38, duration: 3.9s\n"
     ]
    },
    {
     "name": "stderr",
     "output_type": "stream",
     "text": [
      "\u001b[32m[I 2023-04-10 20:04:28,604]\u001b[0m Trial 18 finished with value: 0.44319996948945184 and parameters: {'hidden_dim': 130, 'num_layers': 0}. Best is trial 10 with value: 0.6306640491658346.\u001b[0m\n"
     ]
    },
    {
     "name": "stdout",
     "output_type": "stream",
     "text": [
      "Epoch   5/  5, train loss: 0.04, train f1: 0.34, val loss: 0.04, val f1: 0.44, duration: 4.2s\n",
      "FC Trial 20 | hd 115, nl 1\n",
      "Epoch   1/  5, train loss: 0.05, train f1: 0.21, val loss: 0.04, val f1: 0.37, duration: 4.3s\n"
     ]
    },
    {
     "name": "stderr",
     "output_type": "stream",
     "text": [
      "\u001b[32m[I 2023-04-10 20:04:53,438]\u001b[0m Trial 19 finished with value: 0.45963048183520394 and parameters: {'hidden_dim': 115, 'num_layers': 1}. Best is trial 10 with value: 0.6306640491658346.\u001b[0m\n"
     ]
    },
    {
     "name": "stdout",
     "output_type": "stream",
     "text": [
      "Epoch   5/  5, train loss: 0.05, train f1: 0.34, val loss: 0.04, val f1: 0.46, duration: 4.6s\n",
      "Best parameters: {'hidden_dim': 65, 'num_layers': 0}\n",
      "FC Model Best Params | hd 65, nl 0\n",
      "Epoch   1/ 10, train loss: 0.05, train f1: 0.25, val loss: 0.04, val f1: 0.49, duration: 3.9s\n",
      "Epoch   5/ 10, train loss: 0.04, train f1: 0.44, val loss: 0.03, val f1: 0.60, duration: 3.8s\n",
      "Epoch  10/ 10, train loss: 0.04, train f1: 0.46, val loss: 0.03, val f1: 0.61, duration: 3.9s\n"
     ]
    }
   ],
   "source": [
    "tuning_and_training(\n",
    "    model_name = model_name, \n",
    "    no_trials= no_trials, \n",
    "    class_gap = class_gap,\n",
    "    num_classes = num_classes,\n",
    "    max_seq_len = max_seq_len,\n",
    "    vocab_len = vocab_len,\n",
    "    batch_size = batch_size\n",
    ")"
   ]
  },
  {
   "cell_type": "code",
   "execution_count": 4,
   "id": "8b88dd96",
   "metadata": {},
   "outputs": [
    {
     "name": "stdout",
     "output_type": "stream",
     "text": [
      "Test F1 score: 0.6144948415345701\n"
     ]
    }
   ],
   "source": [
    "_, test_f1 = test(label)"
   ]
  },
  {
   "cell_type": "markdown",
   "id": "0c0779f1",
   "metadata": {},
   "source": [
    "## RNN\n",
    "\n",
    "Building upon the Feed-Forward Network, we introduce a Recurrent Neural Network (RNN) to capture temporal dependencies in protein sequences, optimizing both hidden dimension and number of layers for superior performance."
   ]
  },
  {
   "cell_type": "code",
   "execution_count": 7,
   "id": "5edc10f1",
   "metadata": {},
   "outputs": [],
   "source": [
    "model_name = \"rnn\"\n",
    "label = model_name + \"_iter1\"\n",
    "no_trials = 20"
   ]
  },
  {
   "cell_type": "code",
   "execution_count": 4,
   "id": "d9058d1a",
   "metadata": {},
   "outputs": [
    {
     "name": "stderr",
     "output_type": "stream",
     "text": [
      "\u001b[32m[I 2023-04-10 20:38:16,147]\u001b[0m A new study created in memory with name: no-name-89057f18-87d3-48f2-8f8e-8e0794cf8f50\u001b[0m\n"
     ]
    },
    {
     "name": "stdout",
     "output_type": "stream",
     "text": [
      "RNN Trial 0 | hd 132, nl 3\n",
      "Epoch   1/  5, train loss: 0.03, train f1: 0.55, val loss: 0.02, val f1: 0.70, duration: 8.2s\n"
     ]
    },
    {
     "name": "stderr",
     "output_type": "stream",
     "text": [
      "\u001b[32m[I 2023-04-10 20:39:01,492]\u001b[0m Trial 0 finished with value: 0.7657530711353085 and parameters: {'hidden_dim': 132, 'num_layers': 3}. Best is trial 0 with value: 0.7657530711353085.\u001b[0m\n"
     ]
    },
    {
     "name": "stdout",
     "output_type": "stream",
     "text": [
      "Epoch   5/  5, train loss: 0.01, train f1: 0.77, val loss: 0.02, val f1: 0.75, duration: 8.2s\n",
      "RNN Trial 1 | hd 129, nl 2\n",
      "Epoch   1/  5, train loss: 0.03, train f1: 0.56, val loss: 0.02, val f1: 0.66, duration: 7.1s\n"
     ]
    },
    {
     "name": "stderr",
     "output_type": "stream",
     "text": [
      "\u001b[32m[I 2023-04-10 20:39:38,199]\u001b[0m Trial 1 finished with value: 0.8246473585215491 and parameters: {'hidden_dim': 129, 'num_layers': 2}. Best is trial 1 with value: 0.8246473585215491.\u001b[0m\n"
     ]
    },
    {
     "name": "stdout",
     "output_type": "stream",
     "text": [
      "Epoch   5/  5, train loss: 0.01, train f1: 0.82, val loss: 0.01, val f1: 0.82, duration: 6.9s\n",
      "RNN Trial 2 | hd 72, nl 3\n",
      "Epoch   1/  5, train loss: 0.04, train f1: 0.44, val loss: 0.02, val f1: 0.60, duration: 7.2s\n"
     ]
    },
    {
     "name": "stderr",
     "output_type": "stream",
     "text": [
      "\u001b[32m[I 2023-04-10 20:40:16,997]\u001b[0m Trial 2 finished with value: 0.7630807568828937 and parameters: {'hidden_dim': 72, 'num_layers': 3}. Best is trial 1 with value: 0.8246473585215491.\u001b[0m\n"
     ]
    },
    {
     "name": "stdout",
     "output_type": "stream",
     "text": [
      "Epoch   5/  5, train loss: 0.02, train f1: 0.74, val loss: 0.01, val f1: 0.76, duration: 7.4s\n",
      "RNN Trial 3 | hd 256, nl 4\n",
      "Epoch   1/  5, train loss: 0.03, train f1: 0.61, val loss: 0.02, val f1: 0.75, duration: 21.3s\n"
     ]
    },
    {
     "name": "stderr",
     "output_type": "stream",
     "text": [
      "\u001b[32m[I 2023-04-10 20:42:10,975]\u001b[0m Trial 3 finished with value: 0.8159934543438717 and parameters: {'hidden_dim': 256, 'num_layers': 4}. Best is trial 1 with value: 0.8246473585215491.\u001b[0m\n"
     ]
    },
    {
     "name": "stdout",
     "output_type": "stream",
     "text": [
      "Epoch   5/  5, train loss: 0.03, train f1: 0.60, val loss: 0.07, val f1: 0.00, duration: 22.7s\n",
      "RNN Trial 4 | hd 127, nl 4\n",
      "Epoch   1/  5, train loss: 0.03, train f1: 0.53, val loss: 0.02, val f1: 0.67, duration: 8.9s\n"
     ]
    },
    {
     "name": "stderr",
     "output_type": "stream",
     "text": [
      "\u001b[32m[I 2023-04-10 20:42:56,271]\u001b[0m Trial 4 finished with value: 0.8272877721445038 and parameters: {'hidden_dim': 127, 'num_layers': 4}. Best is trial 4 with value: 0.8272877721445038.\u001b[0m\n"
     ]
    },
    {
     "name": "stdout",
     "output_type": "stream",
     "text": [
      "Epoch   5/  5, train loss: 0.01, train f1: 0.80, val loss: 0.01, val f1: 0.83, duration: 8.8s\n",
      "RNN Trial 5 | hd 241, nl 3\n",
      "Epoch   1/  5, train loss: 0.02, train f1: 0.62, val loss: 0.02, val f1: 0.74, duration: 17.0s\n"
     ]
    },
    {
     "name": "stderr",
     "output_type": "stream",
     "text": [
      "\u001b[32m[I 2023-04-10 20:44:25,354]\u001b[0m Trial 5 finished with value: 0.8136566085722821 and parameters: {'hidden_dim': 241, 'num_layers': 3}. Best is trial 4 with value: 0.8272877721445038.\u001b[0m\n"
     ]
    },
    {
     "name": "stdout",
     "output_type": "stream",
     "text": [
      "Epoch   5/  5, train loss: 0.05, train f1: 0.25, val loss: 0.03, val f1: 0.54, duration: 17.4s\n",
      "RNN Trial 6 | hd 158, nl 2\n",
      "Epoch   1/  5, train loss: 0.03, train f1: 0.57, val loss: 0.02, val f1: 0.71, duration: 7.2s\n"
     ]
    },
    {
     "name": "stderr",
     "output_type": "stream",
     "text": [
      "\u001b[32m[I 2023-04-10 20:45:03,960]\u001b[0m Trial 6 finished with value: 0.8215657115137107 and parameters: {'hidden_dim': 158, 'num_layers': 2}. Best is trial 4 with value: 0.8272877721445038.\u001b[0m\n"
     ]
    },
    {
     "name": "stdout",
     "output_type": "stream",
     "text": [
      "Epoch   5/  5, train loss: 0.01, train f1: 0.81, val loss: 0.01, val f1: 0.82, duration: 7.3s\n",
      "RNN Trial 7 | hd 222, nl 3\n",
      "Epoch   1/  5, train loss: 0.02, train f1: 0.61, val loss: 0.02, val f1: 0.68, duration: 12.2s\n"
     ]
    },
    {
     "name": "stderr",
     "output_type": "stream",
     "text": [
      "\u001b[32m[I 2023-04-10 20:46:08,237]\u001b[0m Trial 7 finished with value: 0.8289530151288308 and parameters: {'hidden_dim': 222, 'num_layers': 3}. Best is trial 7 with value: 0.8289530151288308.\u001b[0m\n"
     ]
    },
    {
     "name": "stdout",
     "output_type": "stream",
     "text": [
      "Epoch   5/  5, train loss: 0.01, train f1: 0.82, val loss: 0.01, val f1: 0.82, duration: 12.6s\n",
      "RNN Trial 8 | hd 118, nl 4\n",
      "Epoch   1/  5, train loss: 0.03, train f1: 0.49, val loss: 0.03, val f1: 0.54, duration: 8.8s\n"
     ]
    },
    {
     "name": "stderr",
     "output_type": "stream",
     "text": [
      "\u001b[32m[I 2023-04-10 20:46:53,939]\u001b[0m Trial 8 finished with value: 0.8025297804522031 and parameters: {'hidden_dim': 118, 'num_layers': 4}. Best is trial 7 with value: 0.8289530151288308.\u001b[0m\n"
     ]
    },
    {
     "name": "stdout",
     "output_type": "stream",
     "text": [
      "Epoch   5/  5, train loss: 0.01, train f1: 0.78, val loss: 0.01, val f1: 0.80, duration: 8.8s\n",
      "RNN Trial 9 | hd 137, nl 2\n",
      "Epoch   1/  5, train loss: 0.03, train f1: 0.56, val loss: 0.02, val f1: 0.71, duration: 6.9s\n"
     ]
    },
    {
     "name": "stderr",
     "output_type": "stream",
     "text": [
      "\u001b[32m[I 2023-04-10 20:47:31,101]\u001b[0m Trial 9 finished with value: 0.8294072242208843 and parameters: {'hidden_dim': 137, 'num_layers': 2}. Best is trial 9 with value: 0.8294072242208843.\u001b[0m\n"
     ]
    },
    {
     "name": "stdout",
     "output_type": "stream",
     "text": [
      "Epoch   5/  5, train loss: 0.01, train f1: 0.82, val loss: 0.01, val f1: 0.83, duration: 6.9s\n",
      "RNN Trial 10 | hd 195, nl 2\n",
      "Epoch   1/  5, train loss: 0.03, train f1: 0.59, val loss: 0.02, val f1: 0.70, duration: 8.5s\n"
     ]
    },
    {
     "name": "stderr",
     "output_type": "stream",
     "text": [
      "\u001b[32m[I 2023-04-10 20:48:13,738]\u001b[0m Trial 10 finished with value: 0.8230254925203694 and parameters: {'hidden_dim': 195, 'num_layers': 2}. Best is trial 9 with value: 0.8294072242208843.\u001b[0m\n"
     ]
    },
    {
     "name": "stdout",
     "output_type": "stream",
     "text": [
      "Epoch   5/  5, train loss: 0.01, train f1: 0.81, val loss: 0.01, val f1: 0.82, duration: 8.0s\n",
      "RNN Trial 11 | hd 209, nl 2\n",
      "Epoch   1/  5, train loss: 0.03, train f1: 0.61, val loss: 0.02, val f1: 0.73, duration: 7.8s\n"
     ]
    },
    {
     "name": "stderr",
     "output_type": "stream",
     "text": [
      "\u001b[32m[I 2023-04-10 20:48:55,639]\u001b[0m Trial 11 finished with value: 0.7784551916433063 and parameters: {'hidden_dim': 209, 'num_layers': 2}. Best is trial 9 with value: 0.8294072242208843.\u001b[0m\n"
     ]
    },
    {
     "name": "stdout",
     "output_type": "stream",
     "text": [
      "Epoch   5/  5, train loss: 0.01, train f1: 0.81, val loss: 0.01, val f1: 0.78, duration: 7.8s\n",
      "RNN Trial 12 | hd 190, nl 3\n",
      "Epoch   1/  5, train loss: 0.03, train f1: 0.58, val loss: 0.02, val f1: 0.73, duration: 10.8s\n"
     ]
    },
    {
     "name": "stderr",
     "output_type": "stream",
     "text": [
      "\u001b[32m[I 2023-04-10 20:49:52,800]\u001b[0m Trial 12 finished with value: 0.8239071926154452 and parameters: {'hidden_dim': 190, 'num_layers': 3}. Best is trial 9 with value: 0.8294072242208843.\u001b[0m\n"
     ]
    },
    {
     "name": "stdout",
     "output_type": "stream",
     "text": [
      "Epoch   5/  5, train loss: 0.01, train f1: 0.78, val loss: 0.01, val f1: 0.81, duration: 11.4s\n",
      "RNN Trial 13 | hd 165, nl 2\n",
      "Epoch   1/  5, train loss: 0.03, train f1: 0.56, val loss: 0.02, val f1: 0.69, duration: 7.6s\n"
     ]
    },
    {
     "name": "stderr",
     "output_type": "stream",
     "text": [
      "\u001b[32m[I 2023-04-10 20:50:31,930]\u001b[0m Trial 13 finished with value: 0.8248584844551898 and parameters: {'hidden_dim': 165, 'num_layers': 2}. Best is trial 9 with value: 0.8294072242208843.\u001b[0m\n"
     ]
    },
    {
     "name": "stdout",
     "output_type": "stream",
     "text": [
      "Epoch   5/  5, train loss: 0.01, train f1: 0.81, val loss: 0.01, val f1: 0.81, duration: 7.2s\n",
      "RNN Trial 14 | hd 80, nl 3\n",
      "Epoch   1/  5, train loss: 0.04, train f1: 0.43, val loss: 0.03, val f1: 0.61, duration: 7.3s\n"
     ]
    },
    {
     "name": "stderr",
     "output_type": "stream",
     "text": [
      "\u001b[32m[I 2023-04-10 20:51:11,076]\u001b[0m Trial 14 finished with value: 0.755001962481192 and parameters: {'hidden_dim': 80, 'num_layers': 3}. Best is trial 9 with value: 0.8294072242208843.\u001b[0m\n"
     ]
    },
    {
     "name": "stdout",
     "output_type": "stream",
     "text": [
      "Epoch   5/  5, train loss: 0.01, train f1: 0.75, val loss: 0.02, val f1: 0.73, duration: 7.6s\n",
      "RNN Trial 15 | hd 225, nl 2\n",
      "Epoch   1/  5, train loss: 0.03, train f1: 0.61, val loss: 0.02, val f1: 0.74, duration: 10.2s\n"
     ]
    },
    {
     "name": "stderr",
     "output_type": "stream",
     "text": [
      "\u001b[32m[I 2023-04-10 20:52:05,400]\u001b[0m Trial 15 finished with value: 0.795551682956296 and parameters: {'hidden_dim': 225, 'num_layers': 2}. Best is trial 9 with value: 0.8294072242208843.\u001b[0m\n"
     ]
    },
    {
     "name": "stdout",
     "output_type": "stream",
     "text": [
      "Epoch   5/  5, train loss: 0.01, train f1: 0.79, val loss: 0.01, val f1: 0.76, duration: 10.5s\n",
      "RNN Trial 16 | hd 162, nl 4\n",
      "Epoch   1/  5, train loss: 0.03, train f1: 0.56, val loss: 0.02, val f1: 0.71, duration: 13.0s\n"
     ]
    },
    {
     "name": "stderr",
     "output_type": "stream",
     "text": [
      "\u001b[32m[I 2023-04-10 20:53:15,410]\u001b[0m Trial 16 finished with value: 0.8142344215750955 and parameters: {'hidden_dim': 162, 'num_layers': 4}. Best is trial 9 with value: 0.8294072242208843.\u001b[0m\n"
     ]
    },
    {
     "name": "stdout",
     "output_type": "stream",
     "text": [
      "Epoch   5/  5, train loss: 0.01, train f1: 0.81, val loss: 0.01, val f1: 0.81, duration: 13.7s\n",
      "RNN Trial 17 | hd 101, nl 3\n",
      "Epoch   1/  5, train loss: 0.03, train f1: 0.50, val loss: 0.02, val f1: 0.68, duration: 7.4s\n"
     ]
    },
    {
     "name": "stderr",
     "output_type": "stream",
     "text": [
      "\u001b[32m[I 2023-04-10 20:53:56,765]\u001b[0m Trial 17 finished with value: 0.8143658419665017 and parameters: {'hidden_dim': 101, 'num_layers': 3}. Best is trial 9 with value: 0.8294072242208843.\u001b[0m\n"
     ]
    },
    {
     "name": "stdout",
     "output_type": "stream",
     "text": [
      "Epoch   5/  5, train loss: 0.01, train f1: 0.78, val loss: 0.01, val f1: 0.81, duration: 7.7s\n",
      "RNN Trial 18 | hd 173, nl 2\n",
      "Epoch   1/  5, train loss: 0.03, train f1: 0.57, val loss: 0.02, val f1: 0.71, duration: 7.8s\n"
     ]
    },
    {
     "name": "stderr",
     "output_type": "stream",
     "text": [
      "\u001b[32m[I 2023-04-10 20:54:38,793]\u001b[0m Trial 18 finished with value: 0.8231934867828025 and parameters: {'hidden_dim': 173, 'num_layers': 2}. Best is trial 9 with value: 0.8294072242208843.\u001b[0m\n"
     ]
    },
    {
     "name": "stdout",
     "output_type": "stream",
     "text": [
      "Epoch   5/  5, train loss: 0.01, train f1: 0.82, val loss: 0.01, val f1: 0.82, duration: 7.8s\n",
      "RNN Trial 19 | hd 216, nl 3\n",
      "Epoch   1/  5, train loss: 0.02, train f1: 0.62, val loss: 0.02, val f1: 0.76, duration: 13.3s\n"
     ]
    },
    {
     "name": "stderr",
     "output_type": "stream",
     "text": [
      "\u001b[32m[I 2023-04-10 20:55:47,973]\u001b[0m Trial 19 finished with value: 0.7591574301485434 and parameters: {'hidden_dim': 216, 'num_layers': 3}. Best is trial 9 with value: 0.8294072242208843.\u001b[0m\n"
     ]
    },
    {
     "name": "stdout",
     "output_type": "stream",
     "text": [
      "Epoch   5/  5, train loss: 0.05, train f1: 0.20, val loss: 0.04, val f1: 0.38, duration: 13.2s\n",
      "Best parameters: {'hidden_dim': 137, 'num_layers': 2}\n",
      "RNN Model Best Params  | hd 137, nl 2\n",
      "Epoch   1/ 10, train loss: 0.03, train f1: 0.55, val loss: 0.02, val f1: 0.69, duration: 7.7s\n",
      "Epoch   5/ 10, train loss: 0.01, train f1: 0.82, val loss: 0.01, val f1: 0.83, duration: 7.5s\n",
      "Epoch  10/ 10, train loss: 0.01, train f1: 0.84, val loss: 0.01, val f1: 0.86, duration: 7.8s\n"
     ]
    }
   ],
   "source": [
    "tuning_and_training(\n",
    "    model_name = model_name, \n",
    "    no_trials= no_trials, \n",
    "    class_gap = class_gap,\n",
    "    num_classes = num_classes,\n",
    "    max_seq_len = max_seq_len,\n",
    "    vocab_len = vocab_len,\n",
    "    batch_size = batch_size\n",
    ")"
   ]
  },
  {
   "cell_type": "code",
   "execution_count": 5,
   "id": "436fbd17",
   "metadata": {},
   "outputs": [
    {
     "name": "stdout",
     "output_type": "stream",
     "text": [
      "Test F1 score: 0.8583505189918742\n"
     ]
    }
   ],
   "source": [
    "_, test_f1 = test(label)"
   ]
  },
  {
   "cell_type": "markdown",
   "id": "2775b81c",
   "metadata": {},
   "source": [
    "## RNN (With Embed)\n",
    "\n",
    "Enhancing the RNN architecture with an embedding layer, we facilitate a more compact and expressive input representation, jointly optimizing hidden dimension, number of layers, and embedding size for improved classification accuracy."
   ]
  },
  {
   "cell_type": "code",
   "execution_count": 17,
   "id": "73c1d118",
   "metadata": {},
   "outputs": [],
   "source": [
    "model_name = \"rnn_embed\"\n",
    "label = model_name + \"_iter1\"\n",
    "no_trials = 20"
   ]
  },
  {
   "cell_type": "code",
   "execution_count": 18,
   "id": "4c3cc248",
   "metadata": {},
   "outputs": [
    {
     "name": "stderr",
     "output_type": "stream",
     "text": [
      "\u001b[32m[I 2023-04-11 13:35:11,327]\u001b[0m A new study created in memory with name: no-name-4117103e-2b91-4454-b151-ac64d8e17ba2\u001b[0m\n",
      "\u001b[33m[W 2023-04-11 13:35:11,330]\u001b[0m Trial 0 failed with parameters: {'hidden_dim': 424, 'num_layers': 3, 'embed_size': 59} because of the following error: The value None could not be cast to float..\u001b[0m\n",
      "\u001b[33m[W 2023-04-11 13:35:11,332]\u001b[0m Trial 0 failed with value None.\u001b[0m\n",
      "\u001b[33m[W 2023-04-11 13:35:11,333]\u001b[0m Trial 1 failed with parameters: {'hidden_dim': 477, 'num_layers': 4, 'embed_size': 56} because of the following error: The value None could not be cast to float..\u001b[0m\n",
      "\u001b[33m[W 2023-04-11 13:35:11,334]\u001b[0m Trial 1 failed with value None.\u001b[0m\n"
     ]
    },
    {
     "name": "stdout",
     "output_type": "stream",
     "text": [
      "RNNEmbed Trial 2 | hd 343, nl 3, ne 55\n",
      "Epoch   1/  5, train loss: 0.02, train f1: 0.68, val loss: 0.01, val f1: 0.80, duration: 97.4s\n"
     ]
    },
    {
     "name": "stderr",
     "output_type": "stream",
     "text": [
      "\u001b[32m[I 2023-04-11 13:43:33,470]\u001b[0m Trial 2 finished with value: 0.8257862570707792 and parameters: {'hidden_dim': 343, 'num_layers': 3, 'embed_size': 55}. Best is trial 2 with value: 0.8257862570707792.\u001b[0m\n"
     ]
    },
    {
     "name": "stdout",
     "output_type": "stream",
     "text": [
      "Epoch   5/  5, train loss: 0.01, train f1: 0.80, val loss: 0.01, val f1: 0.80, duration: 100.2s\n",
      "RNNEmbed Trial 3 | hd 192, nl 3, ne 48\n",
      "Epoch   1/  5, train loss: 0.02, train f1: 0.63, val loss: 0.02, val f1: 0.74, duration: 15.0s\n"
     ]
    },
    {
     "name": "stderr",
     "output_type": "stream",
     "text": [
      "\u001b[32m[I 2023-04-11 13:44:49,442]\u001b[0m Trial 3 finished with value: 0.8334338859224628 and parameters: {'hidden_dim': 192, 'num_layers': 3, 'embed_size': 48}. Best is trial 3 with value: 0.8334338859224628.\u001b[0m\n",
      "\u001b[33m[W 2023-04-11 13:44:49,444]\u001b[0m Trial 4 failed with parameters: {'hidden_dim': 412, 'num_layers': 4, 'embed_size': 64} because of the following error: The value None could not be cast to float..\u001b[0m\n",
      "\u001b[33m[W 2023-04-11 13:44:49,445]\u001b[0m Trial 4 failed with value None.\u001b[0m\n"
     ]
    },
    {
     "name": "stdout",
     "output_type": "stream",
     "text": [
      "Epoch   5/  5, train loss: 0.01, train f1: 0.80, val loss: 0.01, val f1: 0.82, duration: 14.9s\n",
      "RNNEmbed Trial 5 | hd 206, nl 4, ne 63\n",
      "Epoch   1/  5, train loss: 0.02, train f1: 0.62, val loss: 0.02, val f1: 0.75, duration: 21.1s\n"
     ]
    },
    {
     "name": "stderr",
     "output_type": "stream",
     "text": [
      "\u001b[32m[I 2023-04-11 13:46:36,712]\u001b[0m Trial 5 finished with value: 0.8129091021318721 and parameters: {'hidden_dim': 206, 'num_layers': 4, 'embed_size': 63}. Best is trial 3 with value: 0.8334338859224628.\u001b[0m\n",
      "\u001b[33m[W 2023-04-11 13:46:36,714]\u001b[0m Trial 6 failed with parameters: {'hidden_dim': 421, 'num_layers': 4, 'embed_size': 50} because of the following error: The value None could not be cast to float..\u001b[0m\n",
      "\u001b[33m[W 2023-04-11 13:46:36,716]\u001b[0m Trial 6 failed with value None.\u001b[0m\n"
     ]
    },
    {
     "name": "stdout",
     "output_type": "stream",
     "text": [
      "Epoch   5/  5, train loss: 0.02, train f1: 0.73, val loss: 0.02, val f1: 0.61, duration: 21.3s\n",
      "RNNEmbed Trial 7 | hd 176, nl 2, ne 64\n",
      "Epoch   1/  5, train loss: 0.02, train f1: 0.61, val loss: 0.02, val f1: 0.75, duration: 9.8s\n"
     ]
    },
    {
     "name": "stderr",
     "output_type": "stream",
     "text": [
      "\u001b[32m[I 2023-04-11 13:47:29,131]\u001b[0m Trial 7 finished with value: 0.8174893097410383 and parameters: {'hidden_dim': 176, 'num_layers': 2, 'embed_size': 64}. Best is trial 3 with value: 0.8334338859224628.\u001b[0m\n"
     ]
    },
    {
     "name": "stdout",
     "output_type": "stream",
     "text": [
      "Epoch   5/  5, train loss: 0.01, train f1: 0.82, val loss: 0.04, val f1: 0.47, duration: 10.4s\n",
      "RNNEmbed Trial 8 | hd 298, nl 4, ne 58\n",
      "Epoch   1/  5, train loss: 0.02, train f1: 0.65, val loss: 0.01, val f1: 0.78, duration: 106.1s\n"
     ]
    },
    {
     "name": "stderr",
     "output_type": "stream",
     "text": [
      "\u001b[32m[I 2023-04-11 13:56:32,162]\u001b[0m Trial 8 finished with value: 0.8203824717583259 and parameters: {'hidden_dim': 298, 'num_layers': 4, 'embed_size': 58}. Best is trial 3 with value: 0.8334338859224628.\u001b[0m\n"
     ]
    },
    {
     "name": "stdout",
     "output_type": "stream",
     "text": [
      "Epoch   5/  5, train loss: 0.01, train f1: 0.79, val loss: 0.01, val f1: 0.77, duration: 108.3s\n",
      "RNNEmbed Trial 9 | hd 381, nl 2, ne 53\n",
      "Epoch   1/  5, train loss: 0.02, train f1: 0.70, val loss: 0.02, val f1: 0.72, duration: 80.0s\n"
     ]
    },
    {
     "name": "stderr",
     "output_type": "stream",
     "text": [
      "\u001b[32m[I 2023-04-11 14:03:14,943]\u001b[0m Trial 9 finished with value: 0.8445741137537678 and parameters: {'hidden_dim': 381, 'num_layers': 2, 'embed_size': 53}. Best is trial 9 with value: 0.8445741137537678.\u001b[0m\n"
     ]
    },
    {
     "name": "stdout",
     "output_type": "stream",
     "text": [
      "Epoch   5/  5, train loss: 0.01, train f1: 0.82, val loss: 0.01, val f1: 0.81, duration: 79.9s\n",
      "RNNEmbed Trial 10 | hd 197, nl 3, ne 62\n",
      "Epoch   1/  5, train loss: 0.02, train f1: 0.63, val loss: 0.02, val f1: 0.75, duration: 16.2s\n"
     ]
    },
    {
     "name": "stderr",
     "output_type": "stream",
     "text": [
      "\u001b[32m[I 2023-04-11 14:04:37,043]\u001b[0m Trial 10 finished with value: 0.8237202379556726 and parameters: {'hidden_dim': 197, 'num_layers': 3, 'embed_size': 62}. Best is trial 9 with value: 0.8445741137537678.\u001b[0m\n"
     ]
    },
    {
     "name": "stdout",
     "output_type": "stream",
     "text": [
      "Epoch   5/  5, train loss: 0.01, train f1: 0.79, val loss: 0.01, val f1: 0.82, duration: 15.9s\n",
      "RNNEmbed Trial 11 | hd 85, nl 4, ne 27\n",
      "Epoch   1/  5, train loss: 0.03, train f1: 0.49, val loss: 0.02, val f1: 0.67, duration: 13.4s\n"
     ]
    },
    {
     "name": "stderr",
     "output_type": "stream",
     "text": [
      "\u001b[32m[I 2023-04-11 14:05:42,433]\u001b[0m Trial 11 finished with value: 0.801955580873739 and parameters: {'hidden_dim': 85, 'num_layers': 4, 'embed_size': 27}. Best is trial 9 with value: 0.8445741137537678.\u001b[0m\n",
      "\u001b[33m[W 2023-04-11 14:05:42,435]\u001b[0m Trial 12 failed with parameters: {'hidden_dim': 382, 'num_layers': 4, 'embed_size': 23} because of the following error: The value None could not be cast to float..\u001b[0m\n",
      "\u001b[33m[W 2023-04-11 14:05:42,436]\u001b[0m Trial 12 failed with value None.\u001b[0m\n"
     ]
    },
    {
     "name": "stdout",
     "output_type": "stream",
     "text": [
      "Epoch   5/  5, train loss: 0.01, train f1: 0.77, val loss: 0.01, val f1: 0.80, duration: 12.1s\n",
      "RNNEmbed Trial 13 | hd 228, nl 3, ne 21\n",
      "Epoch   1/  5, train loss: 0.02, train f1: 0.63, val loss: 0.01, val f1: 0.76, duration: 20.6s\n"
     ]
    },
    {
     "name": "stderr",
     "output_type": "stream",
     "text": [
      "\u001b[32m[I 2023-04-11 14:07:33,631]\u001b[0m Trial 13 finished with value: 0.8237525709533449 and parameters: {'hidden_dim': 228, 'num_layers': 3, 'embed_size': 21}. Best is trial 9 with value: 0.8445741137537678.\u001b[0m\n"
     ]
    },
    {
     "name": "stdout",
     "output_type": "stream",
     "text": [
      "Epoch   5/  5, train loss: 0.01, train f1: 0.77, val loss: 0.01, val f1: 0.82, duration: 22.2s\n",
      "RNNEmbed Trial 14 | hd 251, nl 4, ne 29\n",
      "Epoch   1/  5, train loss: 0.02, train f1: 0.64, val loss: 0.01, val f1: 0.76, duration: 27.4s\n"
     ]
    },
    {
     "name": "stderr",
     "output_type": "stream",
     "text": [
      "\u001b[32m[I 2023-04-11 14:09:50,644]\u001b[0m Trial 14 finished with value: 0.8458220784700217 and parameters: {'hidden_dim': 251, 'num_layers': 4, 'embed_size': 29}. Best is trial 14 with value: 0.8458220784700217.\u001b[0m\n",
      "\u001b[33m[W 2023-04-11 14:09:50,660]\u001b[0m Trial 15 failed with parameters: {'hidden_dim': 481, 'num_layers': 4, 'embed_size': 35} because of the following error: The value None could not be cast to float..\u001b[0m\n",
      "\u001b[33m[W 2023-04-11 14:09:50,661]\u001b[0m Trial 15 failed with value None.\u001b[0m\n",
      "\u001b[33m[W 2023-04-11 14:09:50,677]\u001b[0m Trial 16 failed with parameters: {'hidden_dim': 495, 'num_layers': 4, 'embed_size': 34} because of the following error: The value None could not be cast to float..\u001b[0m\n",
      "\u001b[33m[W 2023-04-11 14:09:50,678]\u001b[0m Trial 16 failed with value None.\u001b[0m\n",
      "\u001b[33m[W 2023-04-11 14:09:50,698]\u001b[0m Trial 17 failed with parameters: {'hidden_dim': 500, 'num_layers': 4, 'embed_size': 35} because of the following error: The value None could not be cast to float..\u001b[0m\n",
      "\u001b[33m[W 2023-04-11 14:09:50,699]\u001b[0m Trial 17 failed with value None.\u001b[0m\n",
      "\u001b[33m[W 2023-04-11 14:09:50,717]\u001b[0m Trial 18 failed with parameters: {'hidden_dim': 482, 'num_layers': 4, 'embed_size': 34} because of the following error: The value None could not be cast to float..\u001b[0m\n",
      "\u001b[33m[W 2023-04-11 14:09:50,718]\u001b[0m Trial 18 failed with value None.\u001b[0m\n",
      "\u001b[33m[W 2023-04-11 14:09:50,737]\u001b[0m Trial 19 failed with parameters: {'hidden_dim': 508, 'num_layers': 4, 'embed_size': 34} because of the following error: The value None could not be cast to float..\u001b[0m\n",
      "\u001b[33m[W 2023-04-11 14:09:50,738]\u001b[0m Trial 19 failed with value None.\u001b[0m\n"
     ]
    },
    {
     "name": "stdout",
     "output_type": "stream",
     "text": [
      "Epoch   5/  5, train loss: 0.01, train f1: 0.82, val loss: 0.01, val f1: 0.85, duration: 26.8s\n",
      "Best parameters: {'hidden_dim': 251, 'num_layers': 4, 'embed_size': 29}\n",
      "RNNEmbed Model Best Params  |  hd 251, nl 4, ne 29\n",
      "Epoch   1/ 10, train loss: 0.02, train f1: 0.64, val loss: 0.01, val f1: 0.77, duration: 27.0s\n",
      "Epoch   5/ 10, train loss: 0.01, train f1: 0.81, val loss: 0.01, val f1: 0.83, duration: 26.5s\n",
      "Epoch  10/ 10, train loss: 0.01, train f1: 0.76, val loss: 0.01, val f1: 0.77, duration: 26.4s\n"
     ]
    }
   ],
   "source": [
    "tuning_and_training(\n",
    "    model_name = model_name,\n",
    "    no_trials= no_trials, \n",
    "    class_gap = class_gap,\n",
    "    num_classes = num_classes,\n",
    "    max_seq_len = max_seq_len,\n",
    "    vocab_len = vocab_len,\n",
    "    batch_size = batch_size\n",
    ")"
   ]
  },
  {
   "cell_type": "code",
   "execution_count": 19,
   "id": "e91512f4",
   "metadata": {},
   "outputs": [
    {
     "name": "stdout",
     "output_type": "stream",
     "text": [
      "Test F1 score: 0.8318741277213964\n"
     ]
    }
   ],
   "source": [
    "_, test_f1 = test(label)"
   ]
  },
  {
   "cell_type": "markdown",
   "id": "8e264145",
   "metadata": {},
   "source": [
    "## LSTM\n",
    "\n",
    "To mitigate the vanishing gradient problem encountered in traditional RNNs, we employ a Long Short-Term Memory (LSTM) network, optimizing hidden dimension, number of layers, and embedding size for more robust learning of long-range dependencies."
   ]
  },
  {
   "cell_type": "code",
   "execution_count": 8,
   "id": "db0b840a",
   "metadata": {},
   "outputs": [],
   "source": [
    "model_name = \"lstm\"\n",
    "label = model_name + \"_iter1\"\n",
    "no_trials = 20"
   ]
  },
  {
   "cell_type": "code",
   "execution_count": 7,
   "id": "a2ec4d2d",
   "metadata": {},
   "outputs": [
    {
     "name": "stderr",
     "output_type": "stream",
     "text": [
      "\u001b[32m[I 2023-04-10 21:34:45,394]\u001b[0m A new study created in memory with name: no-name-a2c9fc94-f09b-4bf0-9626-62aa4ff84cea\u001b[0m\n"
     ]
    },
    {
     "name": "stdout",
     "output_type": "stream",
     "text": [
      "LSTM Trial 0 | hd 79, nl 3, ne 52\n",
      "Epoch   1/  5, train loss: 0.02, train f1: 0.63, val loss: 0.01, val f1: 0.85, duration: 12.2s\n"
     ]
    },
    {
     "name": "stderr",
     "output_type": "stream",
     "text": [
      "\u001b[32m[I 2023-04-10 21:35:46,520]\u001b[0m Trial 0 finished with value: 0.9763102819167817 and parameters: {'hidden_dim': 79, 'num_layers': 3, 'embed_size': 52}. Best is trial 0 with value: 0.9763102819167817.\u001b[0m\n"
     ]
    },
    {
     "name": "stdout",
     "output_type": "stream",
     "text": [
      "Epoch   5/  5, train loss: 0.00, train f1: 0.98, val loss: 0.00, val f1: 0.98, duration: 12.0s\n",
      "LSTM Trial 1 | hd 135, nl 3, ne 53\n",
      "Epoch   1/  5, train loss: 0.02, train f1: 0.72, val loss: 0.01, val f1: 0.87, duration: 71.6s\n"
     ]
    },
    {
     "name": "stderr",
     "output_type": "stream",
     "text": [
      "\u001b[32m[I 2023-04-10 22:02:34,867]\u001b[0m Trial 1 finished with value: 0.9689115951884782 and parameters: {'hidden_dim': 135, 'num_layers': 3, 'embed_size': 53}. Best is trial 0 with value: 0.9763102819167817.\u001b[0m\n"
     ]
    },
    {
     "name": "stdout",
     "output_type": "stream",
     "text": [
      "Epoch   5/  5, train loss: 0.00, train f1: 0.98, val loss: 0.00, val f1: 0.97, duration: 502.8s\n",
      "LSTM Trial 2 | hd 201, nl 3, ne 23\n",
      "Epoch   1/  5, train loss: 0.02, train f1: 0.74, val loss: 0.01, val f1: 0.89, duration: 123.4s\n"
     ]
    },
    {
     "name": "stderr",
     "output_type": "stream",
     "text": [
      "\u001b[32m[I 2023-04-10 22:12:56,582]\u001b[0m Trial 2 finished with value: 0.9777497404821043 and parameters: {'hidden_dim': 201, 'num_layers': 3, 'embed_size': 23}. Best is trial 2 with value: 0.9777497404821043.\u001b[0m\n"
     ]
    },
    {
     "name": "stdout",
     "output_type": "stream",
     "text": [
      "Epoch   5/  5, train loss: 0.00, train f1: 0.98, val loss: 0.00, val f1: 0.98, duration: 123.7s\n",
      "LSTM Trial 3 | hd 223, nl 4, ne 62\n",
      "Epoch   1/  5, train loss: 0.02, train f1: 0.74, val loss: 0.01, val f1: 0.90, duration: 152.1s\n"
     ]
    },
    {
     "name": "stderr",
     "output_type": "stream",
     "text": [
      "\u001b[32m[I 2023-04-10 22:25:45,380]\u001b[0m Trial 3 finished with value: 0.9714767460568406 and parameters: {'hidden_dim': 223, 'num_layers': 4, 'embed_size': 62}. Best is trial 2 with value: 0.9777497404821043.\u001b[0m\n"
     ]
    },
    {
     "name": "stdout",
     "output_type": "stream",
     "text": [
      "Epoch   5/  5, train loss: 0.00, train f1: 0.98, val loss: 0.00, val f1: 0.97, duration: 154.6s\n",
      "LSTM Trial 4 | hd 212, nl 2, ne 64\n",
      "Epoch   1/  5, train loss: 0.01, train f1: 0.81, val loss: 0.00, val f1: 0.93, duration: 77.7s\n"
     ]
    },
    {
     "name": "stderr",
     "output_type": "stream",
     "text": [
      "\u001b[32m[I 2023-04-10 22:29:31,550]\u001b[0m Trial 4 finished with value: 0.9802261085890176 and parameters: {'hidden_dim': 212, 'num_layers': 2, 'embed_size': 64}. Best is trial 4 with value: 0.9802261085890176.\u001b[0m\n"
     ]
    },
    {
     "name": "stdout",
     "output_type": "stream",
     "text": [
      "Epoch   5/  5, train loss: 0.00, train f1: 0.99, val loss: 0.00, val f1: 0.98, duration: 28.6s\n",
      "LSTM Trial 5 | hd 109, nl 4, ne 18\n",
      "Epoch   1/  5, train loss: 0.03, train f1: 0.60, val loss: 0.01, val f1: 0.82, duration: 24.9s\n"
     ]
    },
    {
     "name": "stderr",
     "output_type": "stream",
     "text": [
      "\u001b[32m[I 2023-04-10 22:31:39,334]\u001b[0m Trial 5 finished with value: 0.9530815128309272 and parameters: {'hidden_dim': 109, 'num_layers': 4, 'embed_size': 18}. Best is trial 4 with value: 0.9802261085890176.\u001b[0m\n"
     ]
    },
    {
     "name": "stdout",
     "output_type": "stream",
     "text": [
      "Epoch   5/  5, train loss: 0.00, train f1: 0.95, val loss: 0.00, val f1: 0.95, duration: 25.3s\n",
      "LSTM Trial 6 | hd 248, nl 3, ne 36\n",
      "Epoch   1/  5, train loss: 0.01, train f1: 0.78, val loss: 0.00, val f1: 0.92, duration: 48.3s\n"
     ]
    },
    {
     "name": "stderr",
     "output_type": "stream",
     "text": [
      "\u001b[32m[I 2023-04-10 22:35:45,902]\u001b[0m Trial 6 finished with value: 0.973759973832268 and parameters: {'hidden_dim': 248, 'num_layers': 3, 'embed_size': 36}. Best is trial 4 with value: 0.9802261085890176.\u001b[0m\n"
     ]
    },
    {
     "name": "stdout",
     "output_type": "stream",
     "text": [
      "Epoch   5/  5, train loss: 0.00, train f1: 0.98, val loss: 0.00, val f1: 0.97, duration: 48.2s\n",
      "LSTM Trial 7 | hd 127, nl 2, ne 35\n",
      "Epoch   1/  5, train loss: 0.02, train f1: 0.73, val loss: 0.01, val f1: 0.89, duration: 14.3s\n"
     ]
    },
    {
     "name": "stderr",
     "output_type": "stream",
     "text": [
      "\u001b[32m[I 2023-04-10 22:36:58,944]\u001b[0m Trial 7 finished with value: 0.977492171405636 and parameters: {'hidden_dim': 127, 'num_layers': 2, 'embed_size': 35}. Best is trial 4 with value: 0.9802261085890176.\u001b[0m\n"
     ]
    },
    {
     "name": "stdout",
     "output_type": "stream",
     "text": [
      "Epoch   5/  5, train loss: 0.00, train f1: 0.98, val loss: 0.00, val f1: 0.98, duration: 14.1s\n",
      "LSTM Trial 8 | hd 106, nl 2, ne 42\n",
      "Epoch   1/  5, train loss: 0.02, train f1: 0.71, val loss: 0.01, val f1: 0.88, duration: 13.5s\n"
     ]
    },
    {
     "name": "stderr",
     "output_type": "stream",
     "text": [
      "\u001b[32m[I 2023-04-10 22:38:08,277]\u001b[0m Trial 8 finished with value: 0.9711897651025452 and parameters: {'hidden_dim': 106, 'num_layers': 2, 'embed_size': 42}. Best is trial 4 with value: 0.9802261085890176.\u001b[0m\n"
     ]
    },
    {
     "name": "stdout",
     "output_type": "stream",
     "text": [
      "Epoch   5/  5, train loss: 0.00, train f1: 0.98, val loss: 0.00, val f1: 0.97, duration: 13.6s\n",
      "LSTM Trial 9 | hd 205, nl 3, ne 54\n",
      "Epoch   1/  5, train loss: 0.01, train f1: 0.78, val loss: 0.00, val f1: 0.92, duration: 49.5s\n"
     ]
    },
    {
     "name": "stderr",
     "output_type": "stream",
     "text": [
      "\u001b[32m[I 2023-04-10 22:42:20,068]\u001b[0m Trial 9 finished with value: 0.9726219483233273 and parameters: {'hidden_dim': 205, 'num_layers': 3, 'embed_size': 54}. Best is trial 4 with value: 0.9802261085890176.\u001b[0m\n"
     ]
    },
    {
     "name": "stdout",
     "output_type": "stream",
     "text": [
      "Epoch   5/  5, train loss: 0.00, train f1: 0.98, val loss: 0.00, val f1: 0.97, duration: 49.9s\n",
      "LSTM Trial 10 | hd 168, nl 2, ne 64\n",
      "Epoch   1/  5, train loss: 0.01, train f1: 0.78, val loss: 0.01, val f1: 0.92, duration: 67.4s\n"
     ]
    },
    {
     "name": "stderr",
     "output_type": "stream",
     "text": [
      "\u001b[32m[I 2023-04-10 22:47:59,894]\u001b[0m Trial 10 finished with value: 0.9797704364501594 and parameters: {'hidden_dim': 168, 'num_layers': 2, 'embed_size': 64}. Best is trial 4 with value: 0.9802261085890176.\u001b[0m\n"
     ]
    },
    {
     "name": "stdout",
     "output_type": "stream",
     "text": [
      "Epoch   5/  5, train loss: 0.00, train f1: 0.98, val loss: 0.00, val f1: 0.98, duration: 67.5s\n",
      "LSTM Trial 11 | hd 172, nl 2, ne 62\n",
      "Epoch   1/  5, train loss: 0.01, train f1: 0.78, val loss: 0.00, val f1: 0.92, duration: 69.1s\n"
     ]
    },
    {
     "name": "stderr",
     "output_type": "stream",
     "text": [
      "\u001b[32m[I 2023-04-10 22:53:48,490]\u001b[0m Trial 11 finished with value: 0.9774561064940153 and parameters: {'hidden_dim': 172, 'num_layers': 2, 'embed_size': 62}. Best is trial 4 with value: 0.9802261085890176.\u001b[0m\n"
     ]
    },
    {
     "name": "stdout",
     "output_type": "stream",
     "text": [
      "Epoch   5/  5, train loss: 0.00, train f1: 0.98, val loss: 0.00, val f1: 0.98, duration: 69.3s\n",
      "LSTM Trial 12 | hd 163, nl 2, ne 64\n",
      "Epoch   1/  5, train loss: 0.01, train f1: 0.78, val loss: 0.01, val f1: 0.91, duration: 68.6s\n"
     ]
    },
    {
     "name": "stderr",
     "output_type": "stream",
     "text": [
      "\u001b[32m[I 2023-04-10 22:59:34,179]\u001b[0m Trial 12 finished with value: 0.9775010266444588 and parameters: {'hidden_dim': 163, 'num_layers': 2, 'embed_size': 64}. Best is trial 4 with value: 0.9802261085890176.\u001b[0m\n"
     ]
    },
    {
     "name": "stdout",
     "output_type": "stream",
     "text": [
      "Epoch   5/  5, train loss: 0.00, train f1: 0.98, val loss: 0.00, val f1: 0.98, duration: 68.8s\n",
      "LSTM Trial 13 | hd 186, nl 2, ne 48\n",
      "Epoch   1/  5, train loss: 0.01, train f1: 0.78, val loss: 0.01, val f1: 0.91, duration: 76.5s\n"
     ]
    },
    {
     "name": "stderr",
     "output_type": "stream",
     "text": [
      "\u001b[32m[I 2023-04-10 23:05:58,681]\u001b[0m Trial 13 finished with value: 0.9761399946876184 and parameters: {'hidden_dim': 186, 'num_layers': 2, 'embed_size': 48}. Best is trial 4 with value: 0.9802261085890176.\u001b[0m\n"
     ]
    },
    {
     "name": "stdout",
     "output_type": "stream",
     "text": [
      "Epoch   5/  5, train loss: 0.00, train f1: 0.98, val loss: 0.00, val f1: 0.98, duration: 76.3s\n",
      "LSTM Trial 14 | hd 256, nl 2, ne 59\n",
      "Epoch   1/  5, train loss: 0.01, train f1: 0.81, val loss: 0.00, val f1: 0.93, duration: 32.0s\n"
     ]
    },
    {
     "name": "stderr",
     "output_type": "stream",
     "text": [
      "\u001b[32m[I 2023-04-10 23:08:38,290]\u001b[0m Trial 14 finished with value: 0.9734037690522187 and parameters: {'hidden_dim': 256, 'num_layers': 2, 'embed_size': 59}. Best is trial 4 with value: 0.9802261085890176.\u001b[0m\n"
     ]
    },
    {
     "name": "stdout",
     "output_type": "stream",
     "text": [
      "Epoch   5/  5, train loss: 0.00, train f1: 0.98, val loss: 0.00, val f1: 0.97, duration: 31.3s\n",
      "LSTM Trial 15 | hd 226, nl 2, ne 45\n",
      "Epoch   1/  5, train loss: 0.01, train f1: 0.80, val loss: 0.01, val f1: 0.92, duration: 34.1s\n"
     ]
    },
    {
     "name": "stderr",
     "output_type": "stream",
     "text": [
      "\u001b[32m[I 2023-04-10 23:11:30,958]\u001b[0m Trial 15 finished with value: 0.9763310614004304 and parameters: {'hidden_dim': 226, 'num_layers': 2, 'embed_size': 45}. Best is trial 4 with value: 0.9802261085890176.\u001b[0m\n"
     ]
    },
    {
     "name": "stdout",
     "output_type": "stream",
     "text": [
      "Epoch   5/  5, train loss: 0.00, train f1: 0.98, val loss: 0.00, val f1: 0.97, duration: 34.1s\n",
      "LSTM Trial 16 | hd 146, nl 2, ne 30\n",
      "Epoch   1/  5, train loss: 0.02, train f1: 0.72, val loss: 0.01, val f1: 0.90, duration: 52.4s\n"
     ]
    },
    {
     "name": "stderr",
     "output_type": "stream",
     "text": [
      "\u001b[32m[I 2023-04-10 23:15:56,670]\u001b[0m Trial 16 finished with value: 0.9802672846781546 and parameters: {'hidden_dim': 146, 'num_layers': 2, 'embed_size': 30}. Best is trial 16 with value: 0.9802672846781546.\u001b[0m\n"
     ]
    },
    {
     "name": "stdout",
     "output_type": "stream",
     "text": [
      "Epoch   5/  5, train loss: 0.00, train f1: 0.98, val loss: 0.00, val f1: 0.98, duration: 52.8s\n",
      "LSTM Trial 17 | hd 144, nl 2, ne 29\n",
      "Epoch   1/  5, train loss: 0.02, train f1: 0.72, val loss: 0.01, val f1: 0.90, duration: 50.0s\n"
     ]
    },
    {
     "name": "stderr",
     "output_type": "stream",
     "text": [
      "\u001b[32m[I 2023-04-10 23:20:09,438]\u001b[0m Trial 17 finished with value: 0.9773707125766059 and parameters: {'hidden_dim': 144, 'num_layers': 2, 'embed_size': 29}. Best is trial 16 with value: 0.9802672846781546.\u001b[0m\n"
     ]
    },
    {
     "name": "stdout",
     "output_type": "stream",
     "text": [
      "Epoch   5/  5, train loss: 0.00, train f1: 0.98, val loss: 0.00, val f1: 0.98, duration: 50.2s\n",
      "LSTM Trial 18 | hd 69, nl 4, ne 26\n",
      "Epoch   1/  5, train loss: 0.03, train f1: 0.50, val loss: 0.01, val f1: 0.76, duration: 15.0s\n"
     ]
    },
    {
     "name": "stderr",
     "output_type": "stream",
     "text": [
      "\u001b[32m[I 2023-04-10 23:21:25,935]\u001b[0m Trial 18 finished with value: 0.9587981420245398 and parameters: {'hidden_dim': 69, 'num_layers': 4, 'embed_size': 26}. Best is trial 16 with value: 0.9802672846781546.\u001b[0m\n"
     ]
    },
    {
     "name": "stdout",
     "output_type": "stream",
     "text": [
      "Epoch   5/  5, train loss: 0.00, train f1: 0.96, val loss: 0.00, val f1: 0.96, duration: 14.8s\n",
      "LSTM Trial 19 | hd 191, nl 3, ne 33\n",
      "Epoch   1/  5, train loss: 0.02, train f1: 0.75, val loss: 0.01, val f1: 0.90, duration: 122.5s\n"
     ]
    },
    {
     "name": "stderr",
     "output_type": "stream",
     "text": [
      "\u001b[32m[I 2023-04-10 23:31:55,738]\u001b[0m Trial 19 finished with value: 0.9786399176814623 and parameters: {'hidden_dim': 191, 'num_layers': 3, 'embed_size': 33}. Best is trial 16 with value: 0.9802672846781546.\u001b[0m\n"
     ]
    },
    {
     "name": "stdout",
     "output_type": "stream",
     "text": [
      "Epoch   5/  5, train loss: 0.00, train f1: 0.98, val loss: 0.00, val f1: 0.98, duration: 125.5s\n",
      "Best parameters: {'hidden_dim': 146, 'num_layers': 2, 'embed_size': 30}\n",
      "LSTM Model Best Params  | hd 146, nl 2, ne 30\n",
      "Epoch   1/ 10, train loss: 0.02, train f1: 0.73, val loss: 0.01, val f1: 0.89, duration: 53.6s\n",
      "Epoch   5/ 10, train loss: 0.00, train f1: 0.98, val loss: 0.00, val f1: 0.98, duration: 52.5s\n",
      "Epoch  10/ 10, train loss: 0.00, train f1: 0.99, val loss: 0.00, val f1: 0.99, duration: 52.6s\n"
     ]
    }
   ],
   "source": [
    "tuning_and_training(\n",
    "    model_name = model_name,\n",
    "    no_trials= no_trials, \n",
    "    class_gap = class_gap,\n",
    "    num_classes = num_classes,\n",
    "    max_seq_len = max_seq_len,\n",
    "    vocab_len = vocab_len,\n",
    "    batch_size = batch_size\n",
    ")"
   ]
  },
  {
   "cell_type": "code",
   "execution_count": 8,
   "id": "ab2d671a",
   "metadata": {},
   "outputs": [
    {
     "name": "stdout",
     "output_type": "stream",
     "text": [
      "Test F1 score: 0.9830174947534691\n"
     ]
    }
   ],
   "source": [
    "_, test_f1 = test(label)"
   ]
  },
  {
   "cell_type": "markdown",
   "id": "f4dee4c6",
   "metadata": {},
   "source": [
    "## BiLSTM\n",
    "\n",
    "Leveraging a Bi-Directional LSTM, we enable the model to capture information from both past and future contexts, fine-tuning the hidden dimension, number of layers, and embedding size for enhanced protein family prediction."
   ]
  },
  {
   "cell_type": "code",
   "execution_count": 11,
   "id": "5ef8413e",
   "metadata": {},
   "outputs": [],
   "source": [
    "model_name = \"bi-lstm\"\n",
    "label = model_name + \"_iter1\"\n",
    "no_trials = 20"
   ]
  },
  {
   "cell_type": "code",
   "execution_count": 12,
   "id": "57f2d317",
   "metadata": {},
   "outputs": [
    {
     "name": "stderr",
     "output_type": "stream",
     "text": [
      "\u001b[32m[I 2023-04-11 10:19:56,865]\u001b[0m A new study created in memory with name: no-name-deb74425-8393-48b0-9f7d-fecb289e8c47\u001b[0m\n"
     ]
    },
    {
     "name": "stdout",
     "output_type": "stream",
     "text": [
      "BiLSTM Trial 0 | hd 231, nl 3, ne 32\n",
      "Epoch   1/  5, train loss: 0.01, train f1: 0.79, val loss: 0.00, val f1: 0.92, duration: 84.3s\n"
     ]
    },
    {
     "name": "stderr",
     "output_type": "stream",
     "text": [
      "\u001b[32m[I 2023-04-11 10:27:49,734]\u001b[0m Trial 0 finished with value: 0.9799523546218828 and parameters: {'hidden_dim': 231, 'num_layers': 3, 'embed_size': 32}. Best is trial 0 with value: 0.9799523546218828.\u001b[0m\n"
     ]
    },
    {
     "name": "stdout",
     "output_type": "stream",
     "text": [
      "Epoch   5/  5, train loss: 0.00, train f1: 0.99, val loss: 0.00, val f1: 0.98, duration: 101.8s\n",
      "BiLSTM Trial 1 | hd 111, nl 4, ne 30\n",
      "Epoch   1/  5, train loss: 0.02, train f1: 0.68, val loss: 0.01, val f1: 0.88, duration: 52.0s\n"
     ]
    },
    {
     "name": "stderr",
     "output_type": "stream",
     "text": [
      "\u001b[32m[I 2023-04-11 10:32:07,804]\u001b[0m Trial 1 finished with value: 0.9717341806653917 and parameters: {'hidden_dim': 111, 'num_layers': 4, 'embed_size': 30}. Best is trial 0 with value: 0.9799523546218828.\u001b[0m\n"
     ]
    },
    {
     "name": "stdout",
     "output_type": "stream",
     "text": [
      "Epoch   5/  5, train loss: 0.00, train f1: 0.98, val loss: 0.00, val f1: 0.97, duration: 50.9s\n",
      "BiLSTM Trial 2 | hd 183, nl 2, ne 37\n",
      "Epoch   1/  5, train loss: 0.01, train f1: 0.79, val loss: 0.00, val f1: 0.92, duration: 138.3s\n"
     ]
    },
    {
     "name": "stderr",
     "output_type": "stream",
     "text": [
      "\u001b[32m[I 2023-04-11 10:44:02,239]\u001b[0m Trial 2 finished with value: 0.9805935944563495 and parameters: {'hidden_dim': 183, 'num_layers': 2, 'embed_size': 37}. Best is trial 2 with value: 0.9805935944563495.\u001b[0m\n"
     ]
    },
    {
     "name": "stdout",
     "output_type": "stream",
     "text": [
      "Epoch   5/  5, train loss: 0.00, train f1: 0.99, val loss: 0.00, val f1: 0.98, duration: 145.3s\n",
      "BiLSTM Trial 3 | hd 204, nl 4, ne 63\n",
      "Epoch   1/  5, train loss: 0.01, train f1: 0.77, val loss: 0.00, val f1: 0.92, duration: 89.1s\n"
     ]
    },
    {
     "name": "stderr",
     "output_type": "stream",
     "text": [
      "\u001b[32m[I 2023-04-11 10:51:34,245]\u001b[0m Trial 3 finished with value: 0.9814587265733016 and parameters: {'hidden_dim': 204, 'num_layers': 4, 'embed_size': 63}. Best is trial 3 with value: 0.9814587265733016.\u001b[0m\n"
     ]
    },
    {
     "name": "stdout",
     "output_type": "stream",
     "text": [
      "Epoch   5/  5, train loss: 0.00, train f1: 0.98, val loss: 0.00, val f1: 0.98, duration: 92.8s\n",
      "BiLSTM Trial 4 | hd 128, nl 3, ne 26\n",
      "Epoch   1/  5, train loss: 0.02, train f1: 0.72, val loss: 0.01, val f1: 0.90, duration: 40.4s\n"
     ]
    },
    {
     "name": "stderr",
     "output_type": "stream",
     "text": [
      "\u001b[32m[I 2023-04-11 10:55:03,064]\u001b[0m Trial 4 finished with value: 0.9734063302487573 and parameters: {'hidden_dim': 128, 'num_layers': 3, 'embed_size': 26}. Best is trial 3 with value: 0.9814587265733016.\u001b[0m\n"
     ]
    },
    {
     "name": "stdout",
     "output_type": "stream",
     "text": [
      "Epoch   5/  5, train loss: 0.00, train f1: 0.98, val loss: 0.00, val f1: 0.97, duration: 41.0s\n",
      "BiLSTM Trial 5 | hd 156, nl 2, ne 62\n",
      "Epoch   1/  5, train loss: 0.01, train f1: 0.80, val loss: 0.00, val f1: 0.93, duration: 99.6s\n"
     ]
    },
    {
     "name": "stderr",
     "output_type": "stream",
     "text": [
      "\u001b[32m[I 2023-04-11 11:03:24,292]\u001b[0m Trial 5 finished with value: 0.9815632253559958 and parameters: {'hidden_dim': 156, 'num_layers': 2, 'embed_size': 62}. Best is trial 5 with value: 0.9815632253559958.\u001b[0m\n"
     ]
    },
    {
     "name": "stdout",
     "output_type": "stream",
     "text": [
      "Epoch   5/  5, train loss: 0.00, train f1: 0.99, val loss: 0.00, val f1: 0.98, duration: 100.0s\n",
      "BiLSTM Trial 6 | hd 103, nl 2, ne 16\n",
      "Epoch   1/  5, train loss: 0.02, train f1: 0.66, val loss: 0.01, val f1: 0.88, duration: 25.3s\n"
     ]
    },
    {
     "name": "stderr",
     "output_type": "stream",
     "text": [
      "\u001b[32m[I 2023-04-11 11:05:31,125]\u001b[0m Trial 6 finished with value: 0.9814369500671026 and parameters: {'hidden_dim': 103, 'num_layers': 2, 'embed_size': 16}. Best is trial 5 with value: 0.9815632253559958.\u001b[0m\n"
     ]
    },
    {
     "name": "stdout",
     "output_type": "stream",
     "text": [
      "Epoch   5/  5, train loss: 0.00, train f1: 0.98, val loss: 0.00, val f1: 0.98, duration: 24.7s\n",
      "BiLSTM Trial 7 | hd 256, nl 3, ne 23\n",
      "Epoch   1/  5, train loss: 0.01, train f1: 0.77, val loss: 0.00, val f1: 0.92, duration: 76.1s\n"
     ]
    },
    {
     "name": "stderr",
     "output_type": "stream",
     "text": [
      "\u001b[32m[I 2023-04-11 11:11:57,383]\u001b[0m Trial 7 finished with value: 0.981965061349325 and parameters: {'hidden_dim': 256, 'num_layers': 3, 'embed_size': 23}. Best is trial 7 with value: 0.981965061349325.\u001b[0m\n"
     ]
    },
    {
     "name": "stdout",
     "output_type": "stream",
     "text": [
      "Epoch   5/  5, train loss: 0.00, train f1: 0.99, val loss: 0.00, val f1: 0.98, duration: 76.5s\n",
      "BiLSTM Trial 8 | hd 149, nl 3, ne 47\n",
      "Epoch   1/  5, train loss: 0.01, train f1: 0.77, val loss: 0.01, val f1: 0.91, duration: 145.4s\n"
     ]
    },
    {
     "name": "stderr",
     "output_type": "stream",
     "text": [
      "\u001b[32m[I 2023-04-11 11:24:22,160]\u001b[0m Trial 8 finished with value: 0.9802554686227581 and parameters: {'hidden_dim': 149, 'num_layers': 3, 'embed_size': 47}. Best is trial 7 with value: 0.981965061349325.\u001b[0m\n",
      "\u001b[33m[W 2023-04-11 11:24:22,163]\u001b[0m Trial 9 failed with parameters: {'hidden_dim': 252, 'num_layers': 4, 'embed_size': 36} because of the following error: The value None could not be cast to float..\u001b[0m\n",
      "\u001b[33m[W 2023-04-11 11:24:22,164]\u001b[0m Trial 9 failed with value None.\u001b[0m\n"
     ]
    },
    {
     "name": "stdout",
     "output_type": "stream",
     "text": [
      "Epoch   5/  5, train loss: 0.00, train f1: 0.98, val loss: 0.00, val f1: 0.98, duration: 148.2s\n",
      "BiLSTM Trial 10 | hd 153, nl 3, ne 43\n",
      "Epoch   1/  5, train loss: 0.02, train f1: 0.76, val loss: 0.01, val f1: 0.91, duration: 152.3s\n"
     ]
    },
    {
     "name": "stderr",
     "output_type": "stream",
     "text": [
      "\u001b[32m[I 2023-04-11 11:37:08,337]\u001b[0m Trial 10 finished with value: 0.9756852590633562 and parameters: {'hidden_dim': 153, 'num_layers': 3, 'embed_size': 43}. Best is trial 7 with value: 0.981965061349325.\u001b[0m\n"
     ]
    },
    {
     "name": "stdout",
     "output_type": "stream",
     "text": [
      "Epoch   5/  5, train loss: 0.00, train f1: 0.98, val loss: 0.00, val f1: 0.98, duration: 153.0s\n",
      "BiLSTM Trial 11 | hd 249, nl 4, ne 16\n",
      "Epoch   1/  5, train loss: 0.02, train f1: 0.73, val loss: 0.01, val f1: 0.91, duration: 143.3s\n"
     ]
    },
    {
     "name": "stderr",
     "output_type": "stream",
     "text": [
      "\u001b[32m[I 2023-04-11 11:49:04,619]\u001b[0m Trial 11 finished with value: 0.9816676469046068 and parameters: {'hidden_dim': 249, 'num_layers': 4, 'embed_size': 16}. Best is trial 7 with value: 0.981965061349325.\u001b[0m\n"
     ]
    },
    {
     "name": "stdout",
     "output_type": "stream",
     "text": [
      "Epoch   5/  5, train loss: 0.00, train f1: 0.98, val loss: 0.00, val f1: 0.98, duration: 143.6s\n",
      "BiLSTM Trial 12 | hd 247, nl 4, ne 16\n",
      "Epoch   1/  5, train loss: 0.02, train f1: 0.72, val loss: 0.01, val f1: 0.90, duration: 141.8s\n"
     ]
    },
    {
     "name": "stderr",
     "output_type": "stream",
     "text": [
      "\u001b[32m[I 2023-04-11 12:01:11,121]\u001b[0m Trial 12 finished with value: 0.9811122741094955 and parameters: {'hidden_dim': 247, 'num_layers': 4, 'embed_size': 16}. Best is trial 7 with value: 0.981965061349325.\u001b[0m\n",
      "\u001b[33m[W 2023-04-11 12:01:11,144]\u001b[0m Trial 13 failed with parameters: {'hidden_dim': 256, 'num_layers': 4, 'embed_size': 23} because of the following error: The value None could not be cast to float..\u001b[0m\n",
      "\u001b[33m[W 2023-04-11 12:01:11,145]\u001b[0m Trial 13 failed with value None.\u001b[0m\n"
     ]
    },
    {
     "name": "stdout",
     "output_type": "stream",
     "text": [
      "Epoch   5/  5, train loss: 0.00, train f1: 0.98, val loss: 0.00, val f1: 0.98, duration: 144.6s\n",
      "BiLSTM Trial 14 | hd 68, nl 4, ne 23\n",
      "Epoch   1/  5, train loss: 0.03, train f1: 0.56, val loss: 0.01, val f1: 0.81, duration: 29.9s\n"
     ]
    },
    {
     "name": "stderr",
     "output_type": "stream",
     "text": [
      "\u001b[32m[I 2023-04-11 12:03:43,808]\u001b[0m Trial 14 finished with value: 0.9676840354034344 and parameters: {'hidden_dim': 68, 'num_layers': 4, 'embed_size': 23}. Best is trial 7 with value: 0.981965061349325.\u001b[0m\n"
     ]
    },
    {
     "name": "stdout",
     "output_type": "stream",
     "text": [
      "Epoch   5/  5, train loss: 0.00, train f1: 0.97, val loss: 0.00, val f1: 0.97, duration: 30.0s\n",
      "BiLSTM Trial 15 | hd 256, nl 3, ne 23\n",
      "Epoch   1/  5, train loss: 0.01, train f1: 0.79, val loss: 0.00, val f1: 0.92, duration: 76.4s\n"
     ]
    },
    {
     "name": "stderr",
     "output_type": "stream",
     "text": [
      "\u001b[32m[I 2023-04-11 12:10:10,308]\u001b[0m Trial 15 finished with value: 0.9841632873791226 and parameters: {'hidden_dim': 256, 'num_layers': 3, 'embed_size': 23}. Best is trial 15 with value: 0.9841632873791226.\u001b[0m\n"
     ]
    },
    {
     "name": "stdout",
     "output_type": "stream",
     "text": [
      "Epoch   5/  5, train loss: 0.00, train f1: 0.99, val loss: 0.00, val f1: 0.98, duration: 77.1s\n",
      "BiLSTM Trial 16 | hd 211, nl 3, ne 24\n",
      "Epoch   1/  5, train loss: 0.01, train f1: 0.76, val loss: 0.00, val f1: 0.92, duration: 78.6s\n"
     ]
    },
    {
     "name": "stderr",
     "output_type": "stream",
     "text": [
      "\u001b[32m[I 2023-04-11 12:16:46,983]\u001b[0m Trial 16 finished with value: 0.978268447592924 and parameters: {'hidden_dim': 211, 'num_layers': 3, 'embed_size': 24}. Best is trial 15 with value: 0.9841632873791226.\u001b[0m\n"
     ]
    },
    {
     "name": "stdout",
     "output_type": "stream",
     "text": [
      "Epoch   5/  5, train loss: 0.00, train f1: 0.98, val loss: 0.00, val f1: 0.98, duration: 79.2s\n",
      "BiLSTM Trial 17 | hd 216, nl 3, ne 54\n",
      "Epoch   1/  5, train loss: 0.01, train f1: 0.80, val loss: 0.00, val f1: 0.93, duration: 68.1s\n"
     ]
    },
    {
     "name": "stderr",
     "output_type": "stream",
     "text": [
      "\u001b[32m[I 2023-04-11 12:22:31,970]\u001b[0m Trial 17 finished with value: 0.9726380601242599 and parameters: {'hidden_dim': 216, 'num_layers': 3, 'embed_size': 54}. Best is trial 15 with value: 0.9841632873791226.\u001b[0m\n"
     ]
    },
    {
     "name": "stdout",
     "output_type": "stream",
     "text": [
      "Epoch   5/  5, train loss: 0.00, train f1: 0.98, val loss: 0.00, val f1: 0.97, duration: 70.5s\n",
      "BiLSTM Trial 18 | hd 177, nl 2, ne 35\n",
      "Epoch   1/  5, train loss: 0.01, train f1: 0.79, val loss: 0.00, val f1: 0.93, duration: 143.0s\n"
     ]
    },
    {
     "name": "stderr",
     "output_type": "stream",
     "text": [
      "\u001b[32m[I 2023-04-11 12:34:29,008]\u001b[0m Trial 18 finished with value: 0.9827735986963481 and parameters: {'hidden_dim': 177, 'num_layers': 2, 'embed_size': 35}. Best is trial 15 with value: 0.9841632873791226.\u001b[0m\n"
     ]
    },
    {
     "name": "stdout",
     "output_type": "stream",
     "text": [
      "Epoch   5/  5, train loss: 0.00, train f1: 0.99, val loss: 0.00, val f1: 0.98, duration: 143.0s\n",
      "BiLSTM Trial 19 | hd 183, nl 2, ne 34\n",
      "Epoch   1/  5, train loss: 0.01, train f1: 0.78, val loss: 0.01, val f1: 0.90, duration: 146.8s\n"
     ]
    },
    {
     "name": "stderr",
     "output_type": "stream",
     "text": [
      "\u001b[32m[I 2023-04-11 12:46:51,362]\u001b[0m Trial 19 finished with value: 0.9788340060809854 and parameters: {'hidden_dim': 183, 'num_layers': 2, 'embed_size': 34}. Best is trial 15 with value: 0.9841632873791226.\u001b[0m\n"
     ]
    },
    {
     "name": "stdout",
     "output_type": "stream",
     "text": [
      "Epoch   5/  5, train loss: 0.00, train f1: 0.99, val loss: 0.00, val f1: 0.98, duration: 149.0s\n",
      "Best parameters: {'hidden_dim': 256, 'num_layers': 3, 'embed_size': 23}\n",
      "BiLSTM Model Best Params  | hd 256, nl 3, ne 23\n",
      "Epoch   1/ 10, train loss: 0.01, train f1: 0.78, val loss: 0.00, val f1: 0.92, duration: 87.5s\n",
      "Epoch   5/ 10, train loss: 0.00, train f1: 0.99, val loss: 0.00, val f1: 0.98, duration: 79.5s\n",
      "Epoch  10/ 10, train loss: 0.00, train f1: 0.99, val loss: 0.00, val f1: 0.99, duration: 77.5s\n"
     ]
    }
   ],
   "source": [
    "tuning_and_training(\n",
    "    model_name = model_name,\n",
    "    no_trials= no_trials, \n",
    "    class_gap = class_gap,\n",
    "    num_classes = num_classes,\n",
    "    max_seq_len = max_seq_len,\n",
    "    vocab_len = vocab_len,\n",
    "    batch_size = batch_size\n",
    ")"
   ]
  },
  {
   "cell_type": "code",
   "execution_count": 13,
   "id": "aaede4b1",
   "metadata": {},
   "outputs": [
    {
     "name": "stdout",
     "output_type": "stream",
     "text": [
      "Test F1 score: 0.9834484386762391\n"
     ]
    }
   ],
   "source": [
    "_, test_f1 = test(label)"
   ]
  },
  {
   "cell_type": "markdown",
   "id": "7cd0f0e8",
   "metadata": {},
   "source": [
    "## Transformer (Encoder only)\n",
    "\n",
    "Incorporating the powerful Transformer architecture, we focus on the encoder component to capitalize on its self-attention mechanism, optimizing hidden dimension, number of layers, feed-forward dimension, number of heads per block, and embedding size for state-of-the-art protein family classification."
   ]
  },
  {
   "cell_type": "code",
   "execution_count": 14,
   "id": "bc24e3b8",
   "metadata": {},
   "outputs": [],
   "source": [
    "model_name = \"transformer\"\n",
    "label = model_name + \"_iter1\"\n",
    "no_trials = 30"
   ]
  },
  {
   "cell_type": "code",
   "execution_count": 15,
   "id": "f2c6fe1c",
   "metadata": {},
   "outputs": [
    {
     "name": "stderr",
     "output_type": "stream",
     "text": [
      "\u001b[32m[I 2023-04-11 13:00:08,484]\u001b[0m A new study created in memory with name: no-name-4a78b3b1-4da2-4f13-91bd-ed37403498ca\u001b[0m\n",
      "\u001b[33m[W 2023-04-11 13:00:08,488]\u001b[0m Trial 0 failed with parameters: {'embed_size': 64, 'hidden_dim': 301, 'feed_forward_dim': 382, 'num_layers': 4, 'num_heads': 16} because of the following error: The value None could not be cast to float..\u001b[0m\n",
      "\u001b[33m[W 2023-04-11 13:00:08,488]\u001b[0m Trial 0 failed with value None.\u001b[0m\n"
     ]
    },
    {
     "name": "stdout",
     "output_type": "stream",
     "text": [
      "Transformer Trial 1 | hd 508, nl 2, ne 64, ff 169, nh 16\n",
      "Epoch   1/  5, train loss: 0.05, train f1: 0.17, val loss: 0.04, val f1: 0.32, duration: 29.8s\n"
     ]
    },
    {
     "name": "stderr",
     "output_type": "stream",
     "text": [
      "\u001b[32m[I 2023-04-11 13:02:38,891]\u001b[0m Trial 1 finished with value: 0.8878068843951432 and parameters: {'embed_size': 64, 'hidden_dim': 508, 'feed_forward_dim': 169, 'num_layers': 2, 'num_heads': 16}. Best is trial 1 with value: 0.8878068843951432.\u001b[0m\n",
      "\u001b[33m[W 2023-04-11 13:02:38,893]\u001b[0m Trial 2 failed with parameters: {'embed_size': 256, 'hidden_dim': 507, 'feed_forward_dim': 231, 'num_layers': 4, 'num_heads': 16} because of the following error: The value None could not be cast to float..\u001b[0m\n",
      "\u001b[33m[W 2023-04-11 13:02:38,894]\u001b[0m Trial 2 failed with value None.\u001b[0m\n"
     ]
    },
    {
     "name": "stdout",
     "output_type": "stream",
     "text": [
      "Epoch   5/  5, train loss: 0.01, train f1: 0.86, val loss: 0.01, val f1: 0.89, duration: 29.5s\n",
      "Transformer Trial 3 | hd 207, nl 2, ne 16, ff 98, nh 4\n",
      "Epoch   1/  5, train loss: 0.06, train f1: 0.03, val loss: 0.05, val f1: 0.07, duration: 17.1s\n"
     ]
    },
    {
     "name": "stderr",
     "output_type": "stream",
     "text": [
      "\u001b[32m[I 2023-04-11 13:04:01,644]\u001b[0m Trial 3 finished with value: 0.575015486157533 and parameters: {'embed_size': 16, 'hidden_dim': 207, 'feed_forward_dim': 98, 'num_layers': 2, 'num_heads': 4}. Best is trial 1 with value: 0.8878068843951432.\u001b[0m\n"
     ]
    },
    {
     "name": "stdout",
     "output_type": "stream",
     "text": [
      "Epoch   5/  5, train loss: 0.03, train f1: 0.55, val loss: 0.02, val f1: 0.58, duration: 15.7s\n",
      "Transformer Trial 4 | hd 136, nl 3, ne 16, ff 163, nh 16\n",
      "Epoch   1/  5, train loss: 0.06, train f1: 0.04, val loss: 0.05, val f1: 0.07, duration: 24.9s\n"
     ]
    },
    {
     "name": "stderr",
     "output_type": "stream",
     "text": [
      "\u001b[32m[I 2023-04-11 13:06:07,746]\u001b[0m Trial 4 finished with value: 0.6182965060177821 and parameters: {'embed_size': 16, 'hidden_dim': 136, 'feed_forward_dim': 163, 'num_layers': 3, 'num_heads': 16}. Best is trial 1 with value: 0.8878068843951432.\u001b[0m\n",
      "\u001b[33m[W 2023-04-11 13:06:07,748]\u001b[0m Trial 5 failed with parameters: {'embed_size': 64, 'hidden_dim': 346, 'feed_forward_dim': 156, 'num_layers': 3, 'num_heads': 16} because of the following error: The value None could not be cast to float..\u001b[0m\n",
      "\u001b[33m[W 2023-04-11 13:06:07,749]\u001b[0m Trial 5 failed with value None.\u001b[0m\n"
     ]
    },
    {
     "name": "stdout",
     "output_type": "stream",
     "text": [
      "Epoch   5/  5, train loss: 0.02, train f1: 0.59, val loss: 0.02, val f1: 0.62, duration: 24.8s\n",
      "Transformer Trial 6 | hd 297, nl 3, ne 16, ff 249, nh 16\n",
      "Epoch   1/  5, train loss: 0.06, train f1: 0.03, val loss: 0.05, val f1: 0.05, duration: 25.7s\n"
     ]
    },
    {
     "name": "stderr",
     "output_type": "stream",
     "text": [
      "\u001b[32m[I 2023-04-11 13:08:18,279]\u001b[0m Trial 6 finished with value: 0.6472148769162076 and parameters: {'embed_size': 16, 'hidden_dim': 297, 'feed_forward_dim': 249, 'num_layers': 3, 'num_heads': 16}. Best is trial 1 with value: 0.8878068843951432.\u001b[0m\n"
     ]
    },
    {
     "name": "stdout",
     "output_type": "stream",
     "text": [
      "Epoch   5/  5, train loss: 0.02, train f1: 0.65, val loss: 0.02, val f1: 0.65, duration: 25.7s\n",
      "Transformer Trial 7 | hd 248, nl 2, ne 16, ff 509, nh 8\n",
      "Epoch   1/  5, train loss: 0.06, train f1: 0.04, val loss: 0.05, val f1: 0.08, duration: 21.2s\n"
     ]
    },
    {
     "name": "stderr",
     "output_type": "stream",
     "text": [
      "\u001b[32m[I 2023-04-11 13:10:05,777]\u001b[0m Trial 7 finished with value: 0.6653502727941105 and parameters: {'embed_size': 16, 'hidden_dim': 248, 'feed_forward_dim': 509, 'num_layers': 2, 'num_heads': 8}. Best is trial 1 with value: 0.8878068843951432.\u001b[0m\n",
      "\u001b[33m[W 2023-04-11 13:10:05,778]\u001b[0m Trial 8 failed with parameters: {'embed_size': 32, 'hidden_dim': 382, 'feed_forward_dim': 288, 'num_layers': 4, 'num_heads': 4} because of the following error: The value None could not be cast to float..\u001b[0m\n",
      "\u001b[33m[W 2023-04-11 13:10:05,779]\u001b[0m Trial 8 failed with value None.\u001b[0m\n",
      "\u001b[33m[W 2023-04-11 13:10:05,781]\u001b[0m Trial 9 failed with parameters: {'embed_size': 256, 'hidden_dim': 503, 'feed_forward_dim': 79, 'num_layers': 3, 'num_heads': 16} because of the following error: The value None could not be cast to float..\u001b[0m\n",
      "\u001b[33m[W 2023-04-11 13:10:05,782]\u001b[0m Trial 9 failed with value None.\u001b[0m\n",
      "\u001b[33m[W 2023-04-11 13:10:05,786]\u001b[0m Trial 10 failed with parameters: {'embed_size': 512, 'hidden_dim': 512, 'feed_forward_dim': 497, 'num_layers': 3, 'num_heads': 4} because of the following error: The value None could not be cast to float..\u001b[0m\n",
      "\u001b[33m[W 2023-04-11 13:10:05,786]\u001b[0m Trial 10 failed with value None.\u001b[0m\n",
      "\u001b[33m[W 2023-04-11 13:10:05,789]\u001b[0m Trial 11 failed with parameters: {'embed_size': 256, 'hidden_dim': 369, 'feed_forward_dim': 391, 'num_layers': 3, 'num_heads': 16} because of the following error: The value None could not be cast to float..\u001b[0m\n",
      "\u001b[33m[W 2023-04-11 13:10:05,790]\u001b[0m Trial 11 failed with value None.\u001b[0m\n"
     ]
    },
    {
     "name": "stdout",
     "output_type": "stream",
     "text": [
      "Epoch   5/  5, train loss: 0.02, train f1: 0.61, val loss: 0.02, val f1: 0.67, duration: 21.1s\n",
      "Transformer Trial 12 | hd 212, nl 3, ne 16, ff 261, nh 4\n",
      "Epoch   1/  5, train loss: 0.06, train f1: 0.03, val loss: 0.05, val f1: 0.06, duration: 22.8s\n"
     ]
    },
    {
     "name": "stderr",
     "output_type": "stream",
     "text": [
      "\u001b[32m[I 2023-04-11 13:12:04,176]\u001b[0m Trial 12 finished with value: 0.6492613237557983 and parameters: {'embed_size': 16, 'hidden_dim': 212, 'feed_forward_dim': 261, 'num_layers': 3, 'num_heads': 4}. Best is trial 1 with value: 0.8878068843951432.\u001b[0m\n",
      "\u001b[33m[W 2023-04-11 13:12:04,179]\u001b[0m Trial 13 failed with parameters: {'embed_size': 32, 'hidden_dim': 283, 'feed_forward_dim': 354, 'num_layers': 4, 'num_heads': 4} because of the following error: The value None could not be cast to float..\u001b[0m\n",
      "\u001b[33m[W 2023-04-11 13:12:04,180]\u001b[0m Trial 13 failed with value None.\u001b[0m\n",
      "\u001b[33m[W 2023-04-11 13:12:04,182]\u001b[0m Trial 14 failed with parameters: {'embed_size': 256, 'hidden_dim': 436, 'feed_forward_dim': 462, 'num_layers': 4, 'num_heads': 16} because of the following error: The value None could not be cast to float..\u001b[0m\n",
      "\u001b[33m[W 2023-04-11 13:12:04,183]\u001b[0m Trial 14 failed with value None.\u001b[0m\n"
     ]
    },
    {
     "name": "stdout",
     "output_type": "stream",
     "text": [
      "Epoch   5/  5, train loss: 0.02, train f1: 0.59, val loss: 0.02, val f1: 0.65, duration: 24.9s\n",
      "Transformer Trial 15 | hd 198, nl 4, ne 64, ff 93, nh 8\n",
      "Epoch   1/  5, train loss: 0.05, train f1: 0.18, val loss: 0.04, val f1: 0.35, duration: 38.2s\n"
     ]
    },
    {
     "name": "stderr",
     "output_type": "stream",
     "text": [
      "\u001b[32m[I 2023-04-11 13:15:18,696]\u001b[0m Trial 15 finished with value: 0.9346587262687649 and parameters: {'embed_size': 64, 'hidden_dim': 198, 'feed_forward_dim': 93, 'num_layers': 4, 'num_heads': 8}. Best is trial 15 with value: 0.9346587262687649.\u001b[0m\n"
     ]
    },
    {
     "name": "stdout",
     "output_type": "stream",
     "text": [
      "Epoch   5/  5, train loss: 0.01, train f1: 0.90, val loss: 0.00, val f1: 0.93, duration: 38.4s\n",
      "Transformer Trial 16 | hd 266, nl 2, ne 128, ff 422, nh 8\n",
      "Epoch   1/  5, train loss: 0.04, train f1: 0.31, val loss: 0.03, val f1: 0.53, duration: 29.9s\n"
     ]
    },
    {
     "name": "stderr",
     "output_type": "stream",
     "text": [
      "\u001b[32m[I 2023-04-11 13:17:55,141]\u001b[0m Trial 16 finished with value: 0.9235295368174701 and parameters: {'embed_size': 128, 'hidden_dim': 266, 'feed_forward_dim': 422, 'num_layers': 2, 'num_heads': 8}. Best is trial 15 with value: 0.9346587262687649.\u001b[0m\n",
      "\u001b[33m[W 2023-04-11 13:17:55,144]\u001b[0m Trial 17 failed with parameters: {'embed_size': 128, 'hidden_dim': 347, 'feed_forward_dim': 107, 'num_layers': 3, 'num_heads': 8} because of the following error: The value None could not be cast to float..\u001b[0m\n",
      "\u001b[33m[W 2023-04-11 13:17:55,145]\u001b[0m Trial 17 failed with value None.\u001b[0m\n"
     ]
    },
    {
     "name": "stdout",
     "output_type": "stream",
     "text": [
      "Epoch   5/  5, train loss: 0.00, train f1: 0.92, val loss: 0.00, val f1: 0.92, duration: 31.4s\n",
      "Transformer Trial 18 | hd 235, nl 3, ne 128, ff 373, nh 4\n",
      "Epoch   1/  5, train loss: 0.04, train f1: 0.31, val loss: 0.03, val f1: 0.60, duration: 35.6s\n"
     ]
    },
    {
     "name": "stderr",
     "output_type": "stream",
     "text": [
      "\u001b[32m[I 2023-04-11 13:21:04,698]\u001b[0m Trial 18 finished with value: 0.952891633434388 and parameters: {'embed_size': 128, 'hidden_dim': 235, 'feed_forward_dim': 373, 'num_layers': 3, 'num_heads': 4}. Best is trial 18 with value: 0.952891633434388.\u001b[0m\n"
     ]
    },
    {
     "name": "stdout",
     "output_type": "stream",
     "text": [
      "Epoch   5/  5, train loss: 0.00, train f1: 0.95, val loss: 0.00, val f1: 0.95, duration: 37.7s\n",
      "Transformer Trial 19 | hd 214, nl 2, ne 64, ff 292, nh 4\n",
      "Epoch   1/  5, train loss: 0.05, train f1: 0.19, val loss: 0.04, val f1: 0.35, duration: 19.1s\n"
     ]
    },
    {
     "name": "stderr",
     "output_type": "stream",
     "text": [
      "\u001b[32m[I 2023-04-11 13:22:42,895]\u001b[0m Trial 19 finished with value: 0.8814624472103405 and parameters: {'embed_size': 64, 'hidden_dim': 214, 'feed_forward_dim': 292, 'num_layers': 2, 'num_heads': 4}. Best is trial 18 with value: 0.952891633434388.\u001b[0m\n",
      "\u001b[33m[W 2023-04-11 13:22:42,911]\u001b[0m Trial 20 failed with parameters: {'embed_size': 512, 'hidden_dim': 512, 'feed_forward_dim': 363, 'num_layers': 4, 'num_heads': 4} because of the following error: The value None could not be cast to float..\u001b[0m\n",
      "\u001b[33m[W 2023-04-11 13:22:42,912]\u001b[0m Trial 20 failed with value None.\u001b[0m\n",
      "\u001b[33m[W 2023-04-11 13:22:42,928]\u001b[0m Trial 21 failed with parameters: {'embed_size': 128, 'hidden_dim': 401, 'feed_forward_dim': 365, 'num_layers': 4, 'num_heads': 4} because of the following error: The value None could not be cast to float..\u001b[0m\n",
      "\u001b[33m[W 2023-04-11 13:22:42,928]\u001b[0m Trial 21 failed with value None.\u001b[0m\n",
      "\u001b[33m[W 2023-04-11 13:22:42,947]\u001b[0m Trial 22 failed with parameters: {'embed_size': 128, 'hidden_dim': 373, 'feed_forward_dim': 396, 'num_layers': 4, 'num_heads': 4} because of the following error: The value None could not be cast to float..\u001b[0m\n",
      "\u001b[33m[W 2023-04-11 13:22:42,948]\u001b[0m Trial 22 failed with value None.\u001b[0m\n",
      "\u001b[33m[W 2023-04-11 13:22:42,964]\u001b[0m Trial 23 failed with parameters: {'embed_size': 128, 'hidden_dim': 387, 'feed_forward_dim': 373, 'num_layers': 4, 'num_heads': 4} because of the following error: The value None could not be cast to float..\u001b[0m\n",
      "\u001b[33m[W 2023-04-11 13:22:42,964]\u001b[0m Trial 23 failed with value None.\u001b[0m\n",
      "\u001b[33m[W 2023-04-11 13:22:42,979]\u001b[0m Trial 24 failed with parameters: {'embed_size': 128, 'hidden_dim': 378, 'feed_forward_dim': 379, 'num_layers': 4, 'num_heads': 4} because of the following error: The value None could not be cast to float..\u001b[0m\n",
      "\u001b[33m[W 2023-04-11 13:22:42,980]\u001b[0m Trial 24 failed with value None.\u001b[0m\n",
      "\u001b[33m[W 2023-04-11 13:22:42,996]\u001b[0m Trial 25 failed with parameters: {'embed_size': 128, 'hidden_dim': 389, 'feed_forward_dim': 399, 'num_layers': 4, 'num_heads': 4} because of the following error: The value None could not be cast to float..\u001b[0m\n",
      "\u001b[33m[W 2023-04-11 13:22:42,997]\u001b[0m Trial 25 failed with value None.\u001b[0m\n",
      "\u001b[33m[W 2023-04-11 13:22:43,008]\u001b[0m Trial 26 failed with parameters: {'embed_size': 512, 'hidden_dim': 512, 'feed_forward_dim': 380, 'num_layers': 4, 'num_heads': 4} because of the following error: The value None could not be cast to float..\u001b[0m\n",
      "\u001b[33m[W 2023-04-11 13:22:43,009]\u001b[0m Trial 26 failed with value None.\u001b[0m\n",
      "\u001b[33m[W 2023-04-11 13:22:43,025]\u001b[0m Trial 27 failed with parameters: {'embed_size': 32, 'hidden_dim': 433, 'feed_forward_dim': 375, 'num_layers': 4, 'num_heads': 4} because of the following error: The value None could not be cast to float..\u001b[0m\n",
      "\u001b[33m[W 2023-04-11 13:22:43,026]\u001b[0m Trial 27 failed with value None.\u001b[0m\n",
      "\u001b[33m[W 2023-04-11 13:22:43,043]\u001b[0m Trial 28 failed with parameters: {'embed_size': 32, 'hidden_dim': 421, 'feed_forward_dim': 385, 'num_layers': 4, 'num_heads': 4} because of the following error: The value None could not be cast to float..\u001b[0m\n",
      "\u001b[33m[W 2023-04-11 13:22:43,044]\u001b[0m Trial 28 failed with value None.\u001b[0m\n",
      "\u001b[33m[W 2023-04-11 13:22:43,062]\u001b[0m Trial 29 failed with parameters: {'embed_size': 256, 'hidden_dim': 381, 'feed_forward_dim': 374, 'num_layers': 4, 'num_heads': 4} because of the following error: The value None could not be cast to float..\u001b[0m\n",
      "\u001b[33m[W 2023-04-11 13:22:43,064]\u001b[0m Trial 29 failed with value None.\u001b[0m\n"
     ]
    },
    {
     "name": "stdout",
     "output_type": "stream",
     "text": [
      "Epoch   5/  5, train loss: 0.01, train f1: 0.85, val loss: 0.01, val f1: 0.88, duration: 19.1s\n",
      "Best parameters: {'embed_size': 128, 'hidden_dim': 235, 'feed_forward_dim': 373, 'num_layers': 3, 'num_heads': 4}\n",
      "Transformer Model Best Params  | hd 235, nl 3, ne 128, ff 373, nh 4\n",
      "Epoch   1/ 20, train loss: 0.04, train f1: 0.30, val loss: 0.03, val f1: 0.57, duration: 36.5s\n",
      "Epoch   5/ 20, train loss: 0.00, train f1: 0.94, val loss: 0.00, val f1: 0.96, duration: 35.9s\n",
      "Epoch  10/ 20, train loss: 0.00, train f1: 0.98, val loss: 0.00, val f1: 0.98, duration: 38.1s\n",
      "Epoch  15/ 20, train loss: 0.00, train f1: 0.99, val loss: 0.00, val f1: 0.99, duration: 38.7s\n",
      "Epoch  20/ 20, train loss: 0.00, train f1: 0.99, val loss: 0.00, val f1: 0.99, duration: 37.0s\n"
     ]
    }
   ],
   "source": [
    "tuning_and_training(\n",
    "    model_name = model_name,\n",
    "    no_trials= no_trials, \n",
    "    class_gap = class_gap,\n",
    "    num_classes = num_classes,\n",
    "    max_seq_len = max_seq_len,\n",
    "    vocab_len = vocab_len,\n",
    "    batch_size = batch_size,\n",
    "    epochs = 20,\n",
    ")"
   ]
  },
  {
   "cell_type": "code",
   "execution_count": 16,
   "id": "0d59ba0c",
   "metadata": {},
   "outputs": [
    {
     "name": "stdout",
     "output_type": "stream",
     "text": [
      "Test F1 score: 0.9945186048369115\n"
     ]
    }
   ],
   "source": [
    "_, test_f1 = test(label)"
   ]
  },
  {
   "cell_type": "code",
   "execution_count": null,
   "id": "4d98a4c4",
   "metadata": {},
   "outputs": [],
   "source": []
  }
 ],
 "metadata": {
  "kernelspec": {
   "display_name": "Python 3 (ipykernel)",
   "language": "python",
   "name": "python3"
  },
  "language_info": {
   "codemirror_mode": {
    "name": "ipython",
    "version": 3
   },
   "file_extension": ".py",
   "mimetype": "text/x-python",
   "name": "python",
   "nbconvert_exporter": "python",
   "pygments_lexer": "ipython3",
   "version": "3.10.8"
  }
 },
 "nbformat": 4,
 "nbformat_minor": 5
}
